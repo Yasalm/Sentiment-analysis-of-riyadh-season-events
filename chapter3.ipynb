{
 "cells": [
  {
   "cell_type": "markdown",
   "metadata": {
    "colab_type": "text",
    "id": "C0FdCpsKvkiW"
   },
   "source": [
    "# **Chapter 3**\n",
    "This notebook walkthrough the cleaning and exploring process of our arabic tweets dataset"
   ]
  },
  {
   "cell_type": "code",
   "execution_count": 2,
   "metadata": {
    "colab": {
     "base_uri": "https://localhost:8080/",
     "height": 700
    },
    "colab_type": "code",
    "id": "yQvNttyNx0dW",
    "outputId": "1f638175-aaa0-47c8-e427-4bd44614e62c"
   },
   "outputs": [
    {
     "name": "stdout",
     "output_type": "stream",
     "text": [
      "Collecting python-bidi\n",
      "  Downloading https://files.pythonhosted.org/packages/33/b0/f942d146a2f457233baaafd6bdf624eba8e0f665045b4abd69d1b62d097d/python_bidi-0.4.2-py2.py3-none-any.whl\n",
      "Requirement already satisfied: six in /usr/local/lib/python3.6/dist-packages (from python-bidi) (1.12.0)\n",
      "Installing collected packages: python-bidi\n",
      "Successfully installed python-bidi-0.4.2\n",
      "Collecting arabic_reshaper\n",
      "  Downloading https://files.pythonhosted.org/packages/1c/b8/9f87dc2fc6c2e087e448db9e7f66ca4d68c22e9d49a95e5aad22d77c74f1/arabic_reshaper-2.0.15-py3-none-any.whl\n",
      "Requirement already satisfied: future in /usr/local/lib/python3.6/dist-packages (from arabic_reshaper) (0.16.0)\n",
      "Requirement already satisfied: setuptools in /usr/local/lib/python3.6/dist-packages (from arabic_reshaper) (46.0.0)\n",
      "Installing collected packages: arabic-reshaper\n",
      "Successfully installed arabic-reshaper-2.0.15\n",
      "Requirement already satisfied: wordcloud in /usr/local/lib/python3.6/dist-packages (1.5.0)\n",
      "Requirement already satisfied: pillow in /usr/local/lib/python3.6/dist-packages (from wordcloud) (7.0.0)\n",
      "Requirement already satisfied: numpy>=1.6.1 in /usr/local/lib/python3.6/dist-packages (from wordcloud) (1.18.2)\n",
      "Collecting emoji\n",
      "\u001b[?25l  Downloading https://files.pythonhosted.org/packages/40/8d/521be7f0091fe0f2ae690cc044faf43e3445e0ff33c574eae752dd7e39fa/emoji-0.5.4.tar.gz (43kB)\n",
      "\u001b[K     |████████████████████████████████| 51kB 1.8MB/s \n",
      "\u001b[?25hBuilding wheels for collected packages: emoji\n",
      "  Building wheel for emoji (setup.py) ... \u001b[?25l\u001b[?25hdone\n",
      "  Created wheel for emoji: filename=emoji-0.5.4-cp36-none-any.whl size=42176 sha256=7040d5755c70e53877d5b9602cc7ea2b685771278079f9e0f9bc459e0340b086\n",
      "  Stored in directory: /root/.cache/pip/wheels/2a/a9/0a/4f8e8cce8074232aba240caca3fade315bb49fac68808d1a9c\n",
      "Successfully built emoji\n",
      "Installing collected packages: emoji\n",
      "Successfully installed emoji-0.5.4\n",
      "Requirement already satisfied: nltk in /usr/local/lib/python3.6/dist-packages (3.2.5)\n",
      "Requirement already satisfied: six in /usr/local/lib/python3.6/dist-packages (from nltk) (1.12.0)\n",
      "Collecting tashaphyne\n",
      "\u001b[?25l  Downloading https://files.pythonhosted.org/packages/5f/80/8b94a7d91c92d252cc395d80ebf9e4b2fa5bdd0c3fbf10b4a1749817c998/Tashaphyne-0.3.4.1-py3-none-any.whl (244kB)\n",
      "\u001b[K     |████████████████████████████████| 245kB 2.8MB/s \n",
      "\u001b[?25hCollecting pyarabic\n",
      "\u001b[?25l  Downloading https://files.pythonhosted.org/packages/b8/77/da852ee13bce3affc55b746cebc0fdc0fc48628dbc5898ce489112cd6bd1/PyArabic-0.6.6.tar.gz (101kB)\n",
      "\u001b[K     |████████████████████████████████| 102kB 12.6MB/s \n",
      "\u001b[?25hBuilding wheels for collected packages: pyarabic\n",
      "  Building wheel for pyarabic (setup.py) ... \u001b[?25l\u001b[?25hdone\n",
      "  Created wheel for pyarabic: filename=PyArabic-0.6.6-cp36-none-any.whl size=106208 sha256=dab150ba46fa66ed2014b2af2cacb79420ae8734e627f73bc1d8bc9b742f034c\n",
      "  Stored in directory: /root/.cache/pip/wheels/34/b5/2d/668d567e8c2b6f10309dbfaba5bfef6ea0b1c0f9f6fb37078f\n",
      "Successfully built pyarabic\n",
      "Installing collected packages: pyarabic, tashaphyne\n",
      "Successfully installed pyarabic-0.6.6 tashaphyne-0.3.4.1\n"
     ]
    }
   ],
   "source": [
    "!pip install python-bidi\n",
    "!pip install arabic_reshaper\n",
    "!pip install wordcloud\n",
    "!pip install emoji\n",
    "!pip install nltk\n",
    "!pip install tashaphyne\n",
    "# !pip install gensim"
   ]
  },
  {
   "cell_type": "code",
   "execution_count": 3,
   "metadata": {
    "colab": {
     "base_uri": "https://localhost:8080/",
     "height": 122
    },
    "colab_type": "code",
    "id": "XdcGPSRZqbt3",
    "outputId": "5bf0d6e8-8160-4365-aa18-466bdeef3bec"
   },
   "outputs": [
    {
     "name": "stdout",
     "output_type": "stream",
     "text": [
      "Go to this URL in a browser: https://accounts.google.com/o/oauth2/auth?client_id=947318989803-6bn6qk8qdgf4n4g3pfee6491hc0brc4i.apps.googleusercontent.com&redirect_uri=urn%3aietf%3awg%3aoauth%3a2.0%3aoob&response_type=code&scope=email%20https%3a%2f%2fwww.googleapis.com%2fauth%2fdocs.test%20https%3a%2f%2fwww.googleapis.com%2fauth%2fdrive%20https%3a%2f%2fwww.googleapis.com%2fauth%2fdrive.photos.readonly%20https%3a%2f%2fwww.googleapis.com%2fauth%2fpeopleapi.readonly\n",
      "\n",
      "Enter your authorization code:\n",
      "··········\n",
      "Mounted at /content/drive\n"
     ]
    }
   ],
   "source": [
    "from google.colab import drive\n",
    "drive.mount('/content/drive')"
   ]
  },
  {
   "cell_type": "code",
   "execution_count": 5,
   "metadata": {
    "ExecuteTime": {
     "end_time": "2020-03-05T13:00:54.667556Z",
     "start_time": "2020-03-05T13:00:51.013812Z"
    },
    "colab": {
     "base_uri": "https://localhost:8080/",
     "height": 51
    },
    "colab_type": "code",
    "hidden": true,
    "id": "o9RxvDdfvkia",
    "outputId": "006e4daa-4588-442a-ac33-45effa53f474"
   },
   "outputs": [
    {
     "name": "stdout",
     "output_type": "stream",
     "text": [
      "[nltk_data] Downloading package stopwords to /root/nltk_data...\n",
      "[nltk_data]   Unzipping corpora/stopwords.zip.\n"
     ]
    }
   ],
   "source": [
    "import pandas as pd \n",
    "import numpy as np\n",
    "\n",
    "import matplotlib.pyplot as plt\n",
    "import seaborn as sns\n",
    "\n",
    "import sys\n",
    "import os\n",
    "\n",
    "import arabic_reshaper\n",
    "from bidi.algorithm import get_display\n",
    "from wordcloud import WordCloud\n",
    "from IPython.display import display\n",
    "\n",
    "import utils\n",
    "\n",
    "\n",
    "# FONT_PATH = os.environ.get(\"FONT_PATH\", \"/Library/Fonts/Times New Roman.ttf\")\n",
    "# path = './labeld_dataset/'\n",
    "\n",
    "import pickle"
   ]
  },
  {
   "cell_type": "markdown",
   "metadata": {
    "colab_type": "text",
    "heading_collapsed": true,
    "id": "8NjExAAjvkiZ"
   },
   "source": [
    "## Cleaning and EDA"
   ]
  },
  {
   "cell_type": "code",
   "execution_count": null,
   "metadata": {
    "ExecuteTime": {
     "end_time": "2020-03-05T13:00:54.672535Z",
     "start_time": "2020-03-05T13:00:54.669994Z"
    },
    "colab": {},
    "colab_type": "code",
    "hidden": true,
    "id": "v37YDdmivkie"
   },
   "outputs": [],
   "source": [
    "# sys.path.insert(0, path)"
   ]
  },
  {
   "cell_type": "code",
   "execution_count": null,
   "metadata": {
    "ExecuteTime": {
     "end_time": "2020-03-05T13:00:54.839577Z",
     "start_time": "2020-03-05T13:00:54.679724Z"
    },
    "colab": {},
    "colab_type": "code",
    "hidden": true,
    "id": "XJvGbYB-vkih"
   },
   "outputs": [],
   "source": [
    "bolivard = pd.read_csv('/content/drive/My Drive/Colab Notebooks/grad_pr/bolivard.csv', header=0)\n",
    "winter = pd.read_csv('/content/drive/My Drive/Colab Notebooks/grad_pr/winter_wounder_land.csv', header=None)\n",
    "shm = pd.read_csv('/content/drive/My Drive/Colab Notebooks/grad_pr/labeled shm3.csv', header=0)"
   ]
  },
  {
   "cell_type": "code",
   "execution_count": 7,
   "metadata": {
    "ExecuteTime": {
     "end_time": "2020-03-05T13:00:54.876189Z",
     "start_time": "2020-03-05T13:00:54.842226Z"
    },
    "colab": {
     "base_uri": "https://localhost:8080/",
     "height": 392
    },
    "colab_type": "code",
    "hidden": true,
    "id": "93-yKE9rvkij",
    "outputId": "30f0503b-ef61-4a16-c236-905d70393e36"
   },
   "outputs": [
    {
     "data": {
      "text/html": [
       "<div>\n",
       "<style scoped>\n",
       "    .dataframe tbody tr th:only-of-type {\n",
       "        vertical-align: middle;\n",
       "    }\n",
       "\n",
       "    .dataframe tbody tr th {\n",
       "        vertical-align: top;\n",
       "    }\n",
       "\n",
       "    .dataframe thead th {\n",
       "        text-align: right;\n",
       "    }\n",
       "</style>\n",
       "<table border=\"1\" class=\"dataframe\">\n",
       "  <thead>\n",
       "    <tr style=\"text-align: right;\">\n",
       "      <th></th>\n",
       "      <th>Unnamed: 0</th>\n",
       "      <th>date</th>\n",
       "      <th>label</th>\n",
       "      <th>tweet</th>\n",
       "      <th>loca</th>\n",
       "      <th>fv_count</th>\n",
       "      <th>rt-count</th>\n",
       "      <th>Event name</th>\n",
       "    </tr>\n",
       "  </thead>\n",
       "  <tbody>\n",
       "    <tr>\n",
       "      <th>0</th>\n",
       "      <td>31</td>\n",
       "      <td>2019-11-06 15:43:30</td>\n",
       "      <td>2.0</td>\n",
       "      <td>ابو ناصر طلبتك ...المفروض تكون ليلة لك كليلة ع...</td>\n",
       "      <td>جدة</td>\n",
       "      <td>0.0</td>\n",
       "      <td>0.0</td>\n",
       "      <td>SHM</td>\n",
       "    </tr>\n",
       "    <tr>\n",
       "      <th>1</th>\n",
       "      <td>32</td>\n",
       "      <td>2019-11-06 15:43:07</td>\n",
       "      <td>2.0</td>\n",
       "      <td>ليلة سهم على اي قناه عرضوها امس؟</td>\n",
       "      <td>NaN</td>\n",
       "      <td>0.0</td>\n",
       "      <td>0.0</td>\n",
       "      <td>SHM</td>\n",
       "    </tr>\n",
       "    <tr>\n",
       "      <th>2</th>\n",
       "      <td>108</td>\n",
       "      <td>2019-11-06 15:01:00</td>\n",
       "      <td>2.0</td>\n",
       "      <td>#ليلة_سهم\\nالليلة بشكل عام جميلة .. بس الكراسي...</td>\n",
       "      <td>الرياض</td>\n",
       "      <td>0.0</td>\n",
       "      <td>0.0</td>\n",
       "      <td>SHM</td>\n",
       "    </tr>\n",
       "  </tbody>\n",
       "</table>\n",
       "</div>"
      ],
      "text/plain": [
       "  Unnamed: 0                 date  label  ... fv_count rt-count  Event name\n",
       "0         31  2019-11-06 15:43:30    2.0  ...      0.0      0.0         SHM\n",
       "1         32  2019-11-06 15:43:07    2.0  ...      0.0      0.0         SHM\n",
       "2        108  2019-11-06 15:01:00    2.0  ...      0.0      0.0         SHM\n",
       "\n",
       "[3 rows x 8 columns]"
      ]
     },
     "metadata": {
      "tags": []
     },
     "output_type": "display_data"
    },
    {
     "data": {
      "text/html": [
       "<div>\n",
       "<style scoped>\n",
       "    .dataframe tbody tr th:only-of-type {\n",
       "        vertical-align: middle;\n",
       "    }\n",
       "\n",
       "    .dataframe tbody tr th {\n",
       "        vertical-align: top;\n",
       "    }\n",
       "\n",
       "    .dataframe thead th {\n",
       "        text-align: right;\n",
       "    }\n",
       "</style>\n",
       "<table border=\"1\" class=\"dataframe\">\n",
       "  <thead>\n",
       "    <tr style=\"text-align: right;\">\n",
       "      <th></th>\n",
       "      <th>date</th>\n",
       "      <th>label</th>\n",
       "      <th>text</th>\n",
       "      <th>event</th>\n",
       "    </tr>\n",
       "  </thead>\n",
       "  <tbody>\n",
       "    <tr>\n",
       "      <th>0</th>\n",
       "      <td>2019-10-19 15:06:03</td>\n",
       "      <td>0</td>\n",
       "      <td>#بوليفارد_الرياض وصار للعوائل فقط😂😂</td>\n",
       "      <td>carnival_bolivard</td>\n",
       "    </tr>\n",
       "    <tr>\n",
       "      <th>1</th>\n",
       "      <td>2019-10-19 15:05:17</td>\n",
       "      <td>1</td>\n",
       "      <td>@RiyadhSeason ودنا #بوليفارد_الرياض يكون متواج...</td>\n",
       "      <td>carnival_bolivard</td>\n",
       "    </tr>\n",
       "    <tr>\n",
       "      <th>2</th>\n",
       "      <td>2019-10-19 15:02:51</td>\n",
       "      <td>1</td>\n",
       "      <td>أغلبنا تضايق من زحمة #بوليفارد_الرياض والمناظر...</td>\n",
       "      <td>carnival_bolivard</td>\n",
       "    </tr>\n",
       "  </tbody>\n",
       "</table>\n",
       "</div>"
      ],
      "text/plain": [
       "                  date  ...              event\n",
       "0  2019-10-19 15:06:03  ...  carnival_bolivard\n",
       "1  2019-10-19 15:05:17  ...  carnival_bolivard\n",
       "2  2019-10-19 15:02:51  ...  carnival_bolivard\n",
       "\n",
       "[3 rows x 4 columns]"
      ]
     },
     "metadata": {
      "tags": []
     },
     "output_type": "display_data"
    },
    {
     "data": {
      "text/html": [
       "<div>\n",
       "<style scoped>\n",
       "    .dataframe tbody tr th:only-of-type {\n",
       "        vertical-align: middle;\n",
       "    }\n",
       "\n",
       "    .dataframe tbody tr th {\n",
       "        vertical-align: top;\n",
       "    }\n",
       "\n",
       "    .dataframe thead th {\n",
       "        text-align: right;\n",
       "    }\n",
       "</style>\n",
       "<table border=\"1\" class=\"dataframe\">\n",
       "  <thead>\n",
       "    <tr style=\"text-align: right;\">\n",
       "      <th></th>\n",
       "      <th>0</th>\n",
       "      <th>1</th>\n",
       "      <th>2</th>\n",
       "    </tr>\n",
       "  </thead>\n",
       "  <tbody>\n",
       "    <tr>\n",
       "      <th>0</th>\n",
       "      <td>2019-10-26 20:14:04</td>\n",
       "      <td>اللعبة هذي في  #ونتر_وندرلاند اليوم\\n\\nاخيرا ج...</td>\n",
       "      <td>NaN</td>\n",
       "    </tr>\n",
       "    <tr>\n",
       "      <th>1</th>\n",
       "      <td>2019-10-26 20:13:28</td>\n",
       "      <td>اجمل مكان رحت له للحين في موسم الرياض ونتر وند...</td>\n",
       "      <td>1</td>\n",
       "    </tr>\n",
       "    <tr>\n",
       "      <th>2</th>\n",
       "      <td>2019-10-26 20:12:23</td>\n",
       "      <td>متى يعقلون ذوولا ؟؟؟😂💔\\n\\n#ونتر_وندرلاند #وينت...</td>\n",
       "      <td>2</td>\n",
       "    </tr>\n",
       "  </tbody>\n",
       "</table>\n",
       "</div>"
      ],
      "text/plain": [
       "                     0                                                  1    2\n",
       "0  2019-10-26 20:14:04  اللعبة هذي في  #ونتر_وندرلاند اليوم\\n\\nاخيرا ج...  NaN\n",
       "1  2019-10-26 20:13:28  اجمل مكان رحت له للحين في موسم الرياض ونتر وند...    1\n",
       "2  2019-10-26 20:12:23  متى يعقلون ذوولا ؟؟؟😂💔\\n\\n#ونتر_وندرلاند #وينت...    2"
      ]
     },
     "metadata": {
      "tags": []
     },
     "output_type": "display_data"
    }
   ],
   "source": [
    "display(shm.loc[:, shm.columns != 'user-name'].head(n=3))\n",
    "display(bolivard.head(n=3))\n",
    "display(winter.head(n=3))"
   ]
  },
  {
   "cell_type": "code",
   "execution_count": 8,
   "metadata": {
    "ExecuteTime": {
     "end_time": "2020-03-05T13:00:54.885206Z",
     "start_time": "2020-03-05T13:00:54.878841Z"
    },
    "colab": {
     "base_uri": "https://localhost:8080/",
     "height": 68
    },
    "colab_type": "code",
    "hidden": true,
    "id": "TE9IywJqvkin",
    "outputId": "28da6455-3830-4317-f462-c3a6c0a63f28"
   },
   "outputs": [
    {
     "name": "stdout",
     "output_type": "stream",
     "text": [
      "Index(['Unnamed: 0', 'date', 'label', 'tweet', 'user-name', 'loca', 'fv_count',\n",
      "       'rt-count', 'Event name'],\n",
      "      dtype='object')\n"
     ]
    }
   ],
   "source": [
    "winter.columns = ['date', 'text', 'label']\n",
    "print(shm.columns)"
   ]
  },
  {
   "cell_type": "code",
   "execution_count": null,
   "metadata": {
    "ExecuteTime": {
     "end_time": "2020-03-05T13:00:54.898851Z",
     "start_time": "2020-03-05T13:00:54.887210Z"
    },
    "colab": {},
    "colab_type": "code",
    "hidden": true,
    "id": "MFA6sfAfvkir"
   },
   "outputs": [],
   "source": [
    "\n",
    "shm.drop('Unnamed: 0', inplace=True, axis=1)\n",
    "shm.rename(columns={'tweet': 'text'}, inplace=True)\n"
   ]
  },
  {
   "cell_type": "code",
   "execution_count": 10,
   "metadata": {
    "ExecuteTime": {
     "end_time": "2020-03-05T13:00:54.905024Z",
     "start_time": "2020-03-05T13:00:54.901055Z"
    },
    "colab": {
     "base_uri": "https://localhost:8080/",
     "height": 85
    },
    "colab_type": "code",
    "hidden": true,
    "id": "Wfi-DmiZvkix",
    "outputId": "1839c8e5-e5f6-475b-9849-0bc8fa4f92d0"
   },
   "outputs": [
    {
     "name": "stdout",
     "output_type": "stream",
     "text": [
      "Index(['date', 'label', 'text', 'user-name', 'loca', 'fv_count', 'rt-count',\n",
      "       'Event name'],\n",
      "      dtype='object')\n",
      "Index(['date', 'text', 'label'], dtype='object')\n"
     ]
    }
   ],
   "source": [
    "print(shm.columns)\n",
    "print(winter.columns)"
   ]
  },
  {
   "cell_type": "code",
   "execution_count": null,
   "metadata": {
    "ExecuteTime": {
     "end_time": "2020-03-05T13:00:54.922482Z",
     "start_time": "2020-03-05T13:00:54.909255Z"
    },
    "colab": {},
    "colab_type": "code",
    "hidden": true,
    "id": "L7x8Zxmavkiz"
   },
   "outputs": [],
   "source": [
    "winter['event'] = 'winter_wonder_land'\n",
    "shm['event'] = 'shm'\n",
    "shm.drop('Event name', inplace=True, axis=1)"
   ]
  },
  {
   "cell_type": "code",
   "execution_count": 12,
   "metadata": {
    "ExecuteTime": {
     "end_time": "2020-03-05T13:00:54.931026Z",
     "start_time": "2020-03-05T13:00:54.925476Z"
    },
    "colab": {
     "base_uri": "https://localhost:8080/",
     "height": 68
    },
    "colab_type": "code",
    "hidden": true,
    "id": "fQuJgOfhvki1",
    "outputId": "dbd12d15-aae5-4304-8024-c5987e2a7c57"
   },
   "outputs": [
    {
     "name": "stdout",
     "output_type": "stream",
     "text": [
      "Shm event labeld tweets 1548\n",
      "winter event labeld tweets 1480\n",
      "bolivard event labeld tweets 2001\n"
     ]
    }
   ],
   "source": [
    "print(f'Shm event labeld tweets {shm.label.notna().sum()}\\nwinter event labeld tweets {winter.label.notna().sum()}\\nbolivard event labeld tweets {bolivard.label.notna().sum()}')"
   ]
  },
  {
   "cell_type": "code",
   "execution_count": null,
   "metadata": {
    "ExecuteTime": {
     "end_time": "2020-03-05T13:00:54.944762Z",
     "start_time": "2020-03-05T13:00:54.933497Z"
    },
    "colab": {},
    "colab_type": "code",
    "hidden": true,
    "id": "0kT6H0-kvki5"
   },
   "outputs": [],
   "source": [
    "shm = shm[shm.label.notna()]\n",
    "\n",
    "winter = winter[winter.label.notna()]\n",
    "\n"
   ]
  },
  {
   "cell_type": "code",
   "execution_count": 14,
   "metadata": {
    "ExecuteTime": {
     "end_time": "2020-03-05T13:00:54.954478Z",
     "start_time": "2020-03-05T13:00:54.946467Z"
    },
    "colab": {
     "base_uri": "https://localhost:8080/",
     "height": 272
    },
    "colab_type": "code",
    "hidden": true,
    "id": "ca66nE4Ivki8",
    "outputId": "d1b55807-c71d-4102-dea7-054b9de13f1b"
   },
   "outputs": [
    {
     "name": "stdout",
     "output_type": "stream",
     "text": [
      "1.0    1387\n",
      "0.0     128\n",
      "2.0      33\n",
      "Name: label, dtype: int64\n",
      "\n",
      " 1    703\n",
      "2    490\n",
      "0    285\n",
      "       2\n",
      "Name: label, dtype: int64\n",
      "\n",
      " 1    1240\n",
      "0     533\n",
      "2     228\n",
      "Name: label, dtype: int64\n"
     ]
    }
   ],
   "source": [
    "print(shm.label.value_counts())\n",
    "\n",
    "print('\\n', winter.label.value_counts())\n",
    "\n",
    "print('\\n',bolivard.label.value_counts())"
   ]
  },
  {
   "cell_type": "code",
   "execution_count": null,
   "metadata": {
    "ExecuteTime": {
     "end_time": "2020-03-05T13:00:54.959536Z",
     "start_time": "2020-03-05T13:00:54.956097Z"
    },
    "colab": {},
    "colab_type": "code",
    "hidden": true,
    "id": "U2MJOzrZvki_"
   },
   "outputs": [],
   "source": [
    "winter = winter[winter.label != ' ']"
   ]
  },
  {
   "cell_type": "code",
   "execution_count": null,
   "metadata": {
    "ExecuteTime": {
     "end_time": "2020-03-05T13:00:54.964580Z",
     "start_time": "2020-03-05T13:00:54.961358Z"
    },
    "colab": {},
    "colab_type": "code",
    "hidden": true,
    "id": "AALM16H7vkjB"
   },
   "outputs": [],
   "source": [
    "shm.label = shm.label.astype('int64')"
   ]
  },
  {
   "cell_type": "code",
   "execution_count": 17,
   "metadata": {
    "ExecuteTime": {
     "end_time": "2020-03-05T13:00:54.969073Z",
     "start_time": "2020-03-05T13:00:54.966118Z"
    },
    "colab": {
     "base_uri": "https://localhost:8080/",
     "height": 68
    },
    "colab_type": "code",
    "hidden": true,
    "id": "RRHeiu5LvkjE",
    "outputId": "b72bcccb-be35-4abc-a7dd-65e916952009"
   },
   "outputs": [
    {
     "name": "stdout",
     "output_type": "stream",
     "text": [
      "(1548, 8)\n",
      "(1478, 4)\n",
      "(2001, 4)\n"
     ]
    }
   ],
   "source": [
    "print(shm.shape)\n",
    "print(winter.shape)\n",
    "print(bolivard.shape)"
   ]
  },
  {
   "cell_type": "code",
   "execution_count": 33,
   "metadata": {
    "ExecuteTime": {
     "end_time": "2020-03-05T13:00:54.977505Z",
     "start_time": "2020-03-05T13:00:54.970647Z"
    },
    "colab": {
     "base_uri": "https://localhost:8080/",
     "height": 173
    },
    "colab_type": "code",
    "hidden": true,
    "id": "BfletWPvvkjG",
    "outputId": "54810558-f82f-44a3-a61d-7dba0d68586c"
   },
   "outputs": [
    {
     "name": "stderr",
     "output_type": "stream",
     "text": [
      "/usr/local/lib/python3.6/dist-packages/ipykernel_launcher.py:1: FutureWarning: Sorting because non-concatenation axis is not aligned. A future version\n",
      "of pandas will change to not sort by default.\n",
      "\n",
      "To accept the future behavior, pass 'sort=False'.\n",
      "\n",
      "To retain the current behavior and silence the warning, pass 'sort=True'.\n",
      "\n",
      "  \"\"\"Entry point for launching an IPython kernel.\n"
     ]
    }
   ],
   "source": [
    "merged = pd.concat([winter, bolivard, shm])\n",
    "merged.reset_index(drop=True, inplace=True)"
   ]
  },
  {
   "cell_type": "code",
   "execution_count": 34,
   "metadata": {
    "ExecuteTime": {
     "end_time": "2020-03-05T13:00:54.991334Z",
     "start_time": "2020-03-05T13:00:54.978907Z"
    },
    "colab": {
     "base_uri": "https://localhost:8080/",
     "height": 531
    },
    "colab_type": "code",
    "hidden": true,
    "id": "McmBtHrPvkjJ",
    "outputId": "ca3d6c11-e653-4226-86bd-b6fecd092ecd"
   },
   "outputs": [
    {
     "data": {
      "text/html": [
       "<div>\n",
       "<style scoped>\n",
       "    .dataframe tbody tr th:only-of-type {\n",
       "        vertical-align: middle;\n",
       "    }\n",
       "\n",
       "    .dataframe tbody tr th {\n",
       "        vertical-align: top;\n",
       "    }\n",
       "\n",
       "    .dataframe thead th {\n",
       "        text-align: right;\n",
       "    }\n",
       "</style>\n",
       "<table border=\"1\" class=\"dataframe\">\n",
       "  <thead>\n",
       "    <tr style=\"text-align: right;\">\n",
       "      <th></th>\n",
       "      <th>date</th>\n",
       "      <th>event</th>\n",
       "      <th>fv_count</th>\n",
       "      <th>label</th>\n",
       "      <th>loca</th>\n",
       "      <th>rt-count</th>\n",
       "      <th>text</th>\n",
       "      <th>user-name</th>\n",
       "    </tr>\n",
       "  </thead>\n",
       "  <tbody>\n",
       "    <tr>\n",
       "      <th>0</th>\n",
       "      <td>2019-10-26 20:13:28</td>\n",
       "      <td>winter_wonder_land</td>\n",
       "      <td>NaN</td>\n",
       "      <td>1</td>\n",
       "      <td>NaN</td>\n",
       "      <td>NaN</td>\n",
       "      <td>اجمل مكان رحت له للحين في موسم الرياض ونتر وند...</td>\n",
       "      <td>NaN</td>\n",
       "    </tr>\n",
       "    <tr>\n",
       "      <th>1</th>\n",
       "      <td>2019-10-26 20:12:23</td>\n",
       "      <td>winter_wonder_land</td>\n",
       "      <td>NaN</td>\n",
       "      <td>2</td>\n",
       "      <td>NaN</td>\n",
       "      <td>NaN</td>\n",
       "      <td>متى يعقلون ذوولا ؟؟؟😂💔\\n\\n#ونتر_وندرلاند #وينت...</td>\n",
       "      <td>NaN</td>\n",
       "    </tr>\n",
       "    <tr>\n",
       "      <th>2</th>\n",
       "      <td>2019-10-26 20:09:44</td>\n",
       "      <td>winter_wonder_land</td>\n",
       "      <td>NaN</td>\n",
       "      <td>2</td>\n",
       "      <td>NaN</td>\n",
       "      <td>NaN</td>\n",
       "      <td>حد يعرف سعر الالعاب في ونتر وندر لاند ؟!!\\n #م...</td>\n",
       "      <td>NaN</td>\n",
       "    </tr>\n",
       "    <tr>\n",
       "      <th>3</th>\n",
       "      <td>2019-10-26 20:08:12</td>\n",
       "      <td>winter_wonder_land</td>\n",
       "      <td>NaN</td>\n",
       "      <td>2</td>\n",
       "      <td>NaN</td>\n",
       "      <td>NaN</td>\n",
       "      <td>@KAldeehani @MQA707 لا صح اسمها ونتر وندرلاند</td>\n",
       "      <td>NaN</td>\n",
       "    </tr>\n",
       "    <tr>\n",
       "      <th>4</th>\n",
       "      <td>2019-10-26 20:05:38</td>\n",
       "      <td>winter_wonder_land</td>\n",
       "      <td>NaN</td>\n",
       "      <td>1</td>\n",
       "      <td>NaN</td>\n",
       "      <td>NaN</td>\n",
       "      <td>@Turki_alalshikh اليوم زرت #ونتر_وندرلاند مع ا...</td>\n",
       "      <td>NaN</td>\n",
       "    </tr>\n",
       "    <tr>\n",
       "      <th>5</th>\n",
       "      <td>2019-10-26 20:04:07</td>\n",
       "      <td>winter_wonder_land</td>\n",
       "      <td>NaN</td>\n",
       "      <td>2</td>\n",
       "      <td>NaN</td>\n",
       "      <td>NaN</td>\n",
       "      <td>تدرين ليه المطر يشتاق لك يالرياض\\nمن بين كل ال...</td>\n",
       "      <td>NaN</td>\n",
       "    </tr>\n",
       "    <tr>\n",
       "      <th>6</th>\n",
       "      <td>2019-10-26 20:03:19</td>\n",
       "      <td>winter_wonder_land</td>\n",
       "      <td>NaN</td>\n",
       "      <td>1</td>\n",
       "      <td>NaN</td>\n",
       "      <td>NaN</td>\n",
       "      <td>#موسم_الرياض فيه مطاعم ألعاب نارية النافورة، ا...</td>\n",
       "      <td>NaN</td>\n",
       "    </tr>\n",
       "    <tr>\n",
       "      <th>7</th>\n",
       "      <td>2019-10-26 20:00:18</td>\n",
       "      <td>winter_wonder_land</td>\n",
       "      <td>NaN</td>\n",
       "      <td>1</td>\n",
       "      <td>NaN</td>\n",
       "      <td>NaN</td>\n",
       "      <td>سينما على الأجواء المفتوحة وياسلام سلم🌃 \\nمن ق...</td>\n",
       "      <td>NaN</td>\n",
       "    </tr>\n",
       "    <tr>\n",
       "      <th>8</th>\n",
       "      <td>2019-10-26 19:48:44</td>\n",
       "      <td>winter_wonder_land</td>\n",
       "      <td>NaN</td>\n",
       "      <td>1</td>\n",
       "      <td>NaN</td>\n",
       "      <td>NaN</td>\n",
       "      <td>نصيحتي له لا تشيلو ونتر وندرلاند خلو عندنا وحد...</td>\n",
       "      <td>NaN</td>\n",
       "    </tr>\n",
       "    <tr>\n",
       "      <th>9</th>\n",
       "      <td>2019-10-26 19:48:20</td>\n",
       "      <td>winter_wonder_land</td>\n",
       "      <td>NaN</td>\n",
       "      <td>0</td>\n",
       "      <td>NaN</td>\n",
       "      <td>NaN</td>\n",
       "      <td>ماطلبنا شي مستحيل ولا شي باذخ مثل #ونتر_وندرلا...</td>\n",
       "      <td>NaN</td>\n",
       "    </tr>\n",
       "    <tr>\n",
       "      <th>10</th>\n",
       "      <td>2019-10-26 19:36:37</td>\n",
       "      <td>winter_wonder_land</td>\n",
       "      <td>NaN</td>\n",
       "      <td>2</td>\n",
       "      <td>NaN</td>\n",
       "      <td>NaN</td>\n",
       "      <td>@AoiBrh مالها دخل ونتر وندرلاند !!! ذي من ضمن ...</td>\n",
       "      <td>NaN</td>\n",
       "    </tr>\n",
       "    <tr>\n",
       "      <th>11</th>\n",
       "      <td>2019-10-26 19:34:22</td>\n",
       "      <td>winter_wonder_land</td>\n",
       "      <td>NaN</td>\n",
       "      <td>1</td>\n",
       "      <td>NaN</td>\n",
       "      <td>NaN</td>\n",
       "      <td>#موسم_الرياض \\n#ونتر_وندرلاند \\n\\nمن أحلى الأي...</td>\n",
       "      <td>NaN</td>\n",
       "    </tr>\n",
       "    <tr>\n",
       "      <th>12</th>\n",
       "      <td>2019-10-26 19:34:02</td>\n",
       "      <td>winter_wonder_land</td>\n",
       "      <td>NaN</td>\n",
       "      <td>2</td>\n",
       "      <td>NaN</td>\n",
       "      <td>NaN</td>\n",
       "      <td>جانب من تغطية #صهيل لفعاليات #ونتر_وندرلاند با...</td>\n",
       "      <td>NaN</td>\n",
       "    </tr>\n",
       "    <tr>\n",
       "      <th>13</th>\n",
       "      <td>2019-10-26 19:32:12</td>\n",
       "      <td>winter_wonder_land</td>\n",
       "      <td>NaN</td>\n",
       "      <td>2</td>\n",
       "      <td>NaN</td>\n",
       "      <td>NaN</td>\n",
       "      <td>الخطة تكسير شبوك ! يدخلون غصب ؟\\n#موسم_الرياض ...</td>\n",
       "      <td>NaN</td>\n",
       "    </tr>\n",
       "    <tr>\n",
       "      <th>14</th>\n",
       "      <td>2019-10-26 19:31:34</td>\n",
       "      <td>winter_wonder_land</td>\n",
       "      <td>NaN</td>\n",
       "      <td>2</td>\n",
       "      <td>NaN</td>\n",
       "      <td>NaN</td>\n",
       "      <td>#ونتر_وندرلاند\\nعلموني بالنسبه للالعاب كل لعبه...</td>\n",
       "      <td>NaN</td>\n",
       "    </tr>\n",
       "  </tbody>\n",
       "</table>\n",
       "</div>"
      ],
      "text/plain": [
       "                   date  ... user-name\n",
       "0   2019-10-26 20:13:28  ...       NaN\n",
       "1   2019-10-26 20:12:23  ...       NaN\n",
       "2   2019-10-26 20:09:44  ...       NaN\n",
       "3   2019-10-26 20:08:12  ...       NaN\n",
       "4   2019-10-26 20:05:38  ...       NaN\n",
       "5   2019-10-26 20:04:07  ...       NaN\n",
       "6   2019-10-26 20:03:19  ...       NaN\n",
       "7   2019-10-26 20:00:18  ...       NaN\n",
       "8   2019-10-26 19:48:44  ...       NaN\n",
       "9   2019-10-26 19:48:20  ...       NaN\n",
       "10  2019-10-26 19:36:37  ...       NaN\n",
       "11  2019-10-26 19:34:22  ...       NaN\n",
       "12  2019-10-26 19:34:02  ...       NaN\n",
       "13  2019-10-26 19:32:12  ...       NaN\n",
       "14  2019-10-26 19:31:34  ...       NaN\n",
       "\n",
       "[15 rows x 8 columns]"
      ]
     },
     "metadata": {
      "tags": []
     },
     "output_type": "display_data"
    },
    {
     "name": "stdout",
     "output_type": "stream",
     "text": [
      "(5027, 8)\n"
     ]
    }
   ],
   "source": [
    "display(merged.head(n=15))\n",
    "print(merged.shape)"
   ]
  },
  {
   "cell_type": "code",
   "execution_count": null,
   "metadata": {
    "ExecuteTime": {
     "end_time": "2020-03-05T13:00:54.997294Z",
     "start_time": "2020-03-05T13:00:54.993164Z"
    },
    "colab": {},
    "colab_type": "code",
    "hidden": true,
    "id": "1S5y4Jn3vkjN"
   },
   "outputs": [],
   "source": [
    "merged.label  = pd.to_numeric(merged.label)"
   ]
  },
  {
   "cell_type": "code",
   "execution_count": 36,
   "metadata": {
    "ExecuteTime": {
     "end_time": "2020-03-05T13:00:55.003461Z",
     "start_time": "2020-03-05T13:00:54.998925Z"
    },
    "colab": {
     "base_uri": "https://localhost:8080/",
     "height": 85
    },
    "colab_type": "code",
    "hidden": true,
    "id": "gbyRW4o2vkjP",
    "outputId": "447d8da0-9b31-4615-bc50-342e4d4621fb"
   },
   "outputs": [
    {
     "data": {
      "text/plain": [
       "1    3330\n",
       "0     946\n",
       "2     751\n",
       "Name: label, dtype: int64"
      ]
     },
     "execution_count": 36,
     "metadata": {
      "tags": []
     },
     "output_type": "execute_result"
    }
   ],
   "source": [
    "merged.label.value_counts()"
   ]
  },
  {
   "cell_type": "code",
   "execution_count": null,
   "metadata": {
    "ExecuteTime": {
     "end_time": "2020-03-05T13:00:55.008361Z",
     "start_time": "2020-03-05T13:00:55.004908Z"
    },
    "colab": {},
    "colab_type": "code",
    "hidden": true,
    "id": "JgU3bhILvkjR"
   },
   "outputs": [],
   "source": [
    "merged.label = merged['label'].map({0: 'Negative', 1: 'Positive', 2: 'Neutral'})"
   ]
  },
  {
   "cell_type": "code",
   "execution_count": 114,
   "metadata": {
    "ExecuteTime": {
     "end_time": "2020-03-05T13:00:55.400314Z",
     "start_time": "2020-03-05T13:00:55.009946Z"
    },
    "colab": {
     "base_uri": "https://localhost:8080/",
     "height": 459
    },
    "colab_type": "code",
    "hidden": true,
    "id": "C23BY21ovkjT",
    "outputId": "a50a7910-423a-463e-b477-aaef3df279b2"
   },
   "outputs": [
    {
     "data": {
      "text/plain": [
       "الرياض        2851\n",
       "سهم           1646\n",
       "موسم          1636\n",
       "ونتر          1407\n",
       "وندرلاند      1400\n",
       "ليلة          1379\n",
       "مسيره          947\n",
       "بوليفارد       657\n",
       "ليله           398\n",
       "اليوم          239\n",
       "مسيرة          206\n",
       "شكرا           202\n",
       "اروح           164\n",
       "رابح           119\n",
       "الزحمه         110\n",
       "البوليفارد     103\n",
       "الناس          103\n",
       "جميل           101\n",
       "صار            100\n",
       "تركي           100\n",
       "زحمه            98\n",
       "الترفيه         95\n",
       "احلى            95\n",
       "اجمل            86\n",
       "عبدالمجيد       84\n",
       "dtype: int64"
      ]
     },
     "execution_count": 114,
     "metadata": {
      "tags": []
     },
     "output_type": "execute_result"
    }
   ],
   "source": [
    "frequent_words = utils.frequent_words(merged.text, topk=25)\n",
    "frequent_words"
   ]
  },
  {
   "cell_type": "code",
   "execution_count": 115,
   "metadata": {
    "ExecuteTime": {
     "end_time": "2020-03-05T13:00:55.655808Z",
     "start_time": "2020-03-05T13:00:55.402100Z"
    },
    "colab": {
     "base_uri": "https://localhost:8080/",
     "height": 459
    },
    "colab_type": "code",
    "hidden": true,
    "id": "T6MslTNMvkjW",
    "outputId": "3c678ad8-c6e7-42f7-f2e4-58d7c5e82d8b"
   },
   "outputs": [
    {
     "data": {
      "text/plain": [
       "الرياض        1898\n",
       "سهم           1476\n",
       "ليلة          1277\n",
       "موسم          1116\n",
       "ونتر           689\n",
       "وندرلاند       689\n",
       "مسيره          638\n",
       "ليله           339\n",
       "بوليفارد       333\n",
       "شكرا           193\n",
       "اليوم          172\n",
       "مسيرة          169\n",
       "رابح           116\n",
       "اروح           105\n",
       "احلى            92\n",
       "جميل            90\n",
       "صار             86\n",
       "اجمل            83\n",
       "عبدالمجيد       80\n",
       "جبار            76\n",
       "صقر             74\n",
       "تركي            73\n",
       "الترفيه         73\n",
       "ماجد            68\n",
       "البوليفارد      67\n",
       "dtype: int64"
      ]
     },
     "execution_count": 115,
     "metadata": {
      "tags": []
     },
     "output_type": "execute_result"
    }
   ],
   "source": [
    "pos_frequ_words = utils.frequent_words(merged[merged.label == 'Positive'].text, topk=25)\n",
    "pos_frequ_words"
   ]
  },
  {
   "cell_type": "code",
   "execution_count": 116,
   "metadata": {
    "ExecuteTime": {
     "end_time": "2020-03-05T13:00:55.747290Z",
     "start_time": "2020-03-05T13:00:55.657335Z"
    },
    "colab": {
     "base_uri": "https://localhost:8080/",
     "height": 459
    },
    "colab_type": "code",
    "hidden": true,
    "id": "8k_YT0KpvkjZ",
    "outputId": "a32d6243-8f87-443d-cc6b-1fd6dfe5d429"
   },
   "outputs": [
    {
     "data": {
      "text/plain": [
       "الرياض        586\n",
       "موسم          382\n",
       "مسيره         267\n",
       "ونتر          257\n",
       "وندرلاند      255\n",
       "بوليفارد      157\n",
       "سهم           131\n",
       "ليلة           77\n",
       "زحمه           61\n",
       "الزحمه         52\n",
       "تنظيم          48\n",
       "زحمة           47\n",
       "ليله           45\n",
       "الزحمة         36\n",
       "الناس          34\n",
       "اليوم          31\n",
       "مسيرة          30\n",
       "اروح           26\n",
       "التنظيم        24\n",
       "البوليفارد     21\n",
       "الحين          20\n",
       "يارب           19\n",
       "ونعم           19\n",
       "وين            19\n",
       "الوكيل         19\n",
       "dtype: int64"
      ]
     },
     "execution_count": 116,
     "metadata": {
      "tags": []
     },
     "output_type": "execute_result"
    }
   ],
   "source": [
    "neg_frequ_words = utils.frequent_words(merged[merged.label == 'Negative'].text, topk=25)\n",
    "neg_frequ_words"
   ]
  },
  {
   "cell_type": "code",
   "execution_count": 117,
   "metadata": {
    "ExecuteTime": {
     "end_time": "2020-03-05T13:00:55.819858Z",
     "start_time": "2020-03-05T13:00:55.752848Z"
    },
    "colab": {
     "base_uri": "https://localhost:8080/",
     "height": 459
    },
    "colab_type": "code",
    "hidden": true,
    "id": "hFuViNwtvkjb",
    "outputId": "2882eef8-4c95-4805-982a-ecaafc1a8862"
   },
   "outputs": [
    {
     "data": {
      "text/plain": [
       "ونتر          461\n",
       "وندرلاند      456\n",
       "الرياض        367\n",
       "بوليفارد      167\n",
       "موسم          138\n",
       "مسيره          42\n",
       "سهم            39\n",
       "اليوم          36\n",
       "الزحمه         35\n",
       "اروح           33\n",
       "زحمه           30\n",
       "تذاكر          26\n",
       "الناس          26\n",
       "ليلة           25\n",
       "الزحمة         24\n",
       "الحين          20\n",
       "زحمة           19\n",
       "علي            18\n",
       "راح            17\n",
       "الالعاب        17\n",
       "سباق           16\n",
       "البوليفارد     15\n",
       "الهلال         15\n",
       "ليله           14\n",
       "النصر          13\n",
       "dtype: int64"
      ]
     },
     "execution_count": 117,
     "metadata": {
      "tags": []
     },
     "output_type": "execute_result"
    }
   ],
   "source": [
    "neu_frequ_words = utils.frequent_words(merged[merged.label == 'Neutral'].text, topk=25)\n",
    "neu_frequ_words"
   ]
  },
  {
   "cell_type": "code",
   "execution_count": null,
   "metadata": {
    "ExecuteTime": {
     "end_time": "2020-03-05T13:00:55.826378Z",
     "start_time": "2020-03-05T13:00:55.824231Z"
    },
    "colab": {},
    "colab_type": "code",
    "hidden": true,
    "id": "unlHzyDEvkjg"
   },
   "outputs": [],
   "source": [
    "combind = ' '.join(frequent_words.index)"
   ]
  },
  {
   "cell_type": "code",
   "execution_count": 119,
   "metadata": {
    "ExecuteTime": {
     "end_time": "2020-03-05T13:00:55.834721Z",
     "start_time": "2020-03-05T13:00:55.828024Z"
    },
    "colab": {
     "base_uri": "https://localhost:8080/",
     "height": 54
    },
    "colab_type": "code",
    "hidden": true,
    "id": "DokPywZsvkji",
    "outputId": "6fd505ec-a731-48bd-d9d2-ff59333fb8b9"
   },
   "outputs": [
    {
     "name": "stdout",
     "output_type": "stream",
     "text": [
      "['ﺽﺎﻳﺮﻟﺍ', 'ﻢﻬﺳ', 'ﻢﺳﻮﻣ', 'ﺮﺘﻧﻭ', 'ﺪﻧﻻﺭﺪﻧﻭ', 'ﺔﻠﻴﻟ', 'ﻩﺮﻴﺴﻣ', 'ﺩﺭﺎﻔﻴﻟﻮﺑ', 'ﻪﻠﻴﻟ', 'ﻡﻮﻴﻟﺍ', 'ﺓﺮﻴﺴﻣ', 'ﺍﺮﻜﺷ', 'ﺡﻭﺭﺍ', 'ﺢﺑﺍﺭ', 'ﻪﻤﺣﺰﻟﺍ', 'ﺩﺭﺎﻔﻴﻟﻮﺒﻟﺍ', 'ﺱﺎﻨﻟﺍ', 'ﻞﻴﻤﺟ', 'ﺭﺎﺻ', 'ﻲﻛﺮﺗ', 'ﻪﻤﺣﺯ', 'ﻪﻴﻓﺮﺘﻟﺍ', 'ﻰﻠﺣﺍ', 'ﻞﻤﺟﺍ', 'ﺪﻴﺠﻤﻟﺍﺪﺒﻋ']\n"
     ]
    }
   ],
   "source": [
    "data = arabic_reshaper.reshape(combind)\n",
    "data = get_display(data)\n",
    "data = data.split()\n",
    "data.reverse()\n",
    "print(data)"
   ]
  },
  {
   "cell_type": "code",
   "execution_count": 120,
   "metadata": {
    "ExecuteTime": {
     "end_time": "2020-03-05T13:00:56.317893Z",
     "start_time": "2020-03-05T13:00:55.836339Z"
    },
    "colab": {
     "base_uri": "https://localhost:8080/",
     "height": 554
    },
    "colab_type": "code",
    "hidden": true,
    "id": "nx3QGB8wvkjl",
    "outputId": "82625c1f-104d-49eb-b681-fa1cac52f9e2"
   },
   "outputs": [
    {
     "data": {
      "image/png": "[encoded data removed]",
      "text/plain": [
       "<Figure size 1440x720 with 1 Axes>"
      ]
     },
     "metadata": {
      "tags": []
     },
     "output_type": "display_data"
    }
   ],
   "source": [
    "fig, ax = plt.subplots(figsize=(20,10))\n",
    "ax = sns.barplot(data, frequent_words.values, palette=\"Paired\")\n",
    "\n",
    "\n",
    "for tick in ax.xaxis.get_major_ticks():\n",
    "                tick.label.set_fontsize(18)\n",
    "                tick.label.set_rotation(35)\n",
    "plt.savefig('term_frequency_all_data.png')\n",
    "plt.show()"
   ]
  },
  {
   "cell_type": "code",
   "execution_count": null,
   "metadata": {
    "ExecuteTime": {
     "end_time": "2020-03-05T13:00:56.367771Z",
     "start_time": "2020-03-05T13:00:56.320351Z"
    },
    "colab": {},
    "colab_type": "code",
    "hidden": true,
    "id": "wmEhsHoYvkjn"
   },
   "outputs": [],
   "source": [
    "pos_emojies = utils.view_emojie(merged[merged.label == 'Positive'].text)\n",
    "neg_emojies = utils.view_emojie(merged[merged.label == 'Negative'].text)"
   ]
  },
  {
   "cell_type": "code",
   "execution_count": 122,
   "metadata": {
    "ExecuteTime": {
     "end_time": "2020-03-05T13:00:56.374853Z",
     "start_time": "2020-03-05T13:00:56.369581Z"
    },
    "colab": {
     "base_uri": "https://localhost:8080/",
     "height": 425
    },
    "colab_type": "code",
    "hidden": true,
    "id": "j-r0I5Pivkjp",
    "outputId": "798c0468-a755-4232-ab2a-4116b203aad0"
   },
   "outputs": [
    {
     "name": "stdout",
     "output_type": "stream",
     "text": [
      "0         \n",
      "1         \n",
      "2         \n",
      "3       🌃😏\n",
      "4         \n",
      "        ..\n",
      "3325      \n",
      "3326      \n",
      "3327     😍\n",
      "3328     💔\n",
      "3329     💙\n",
      "Length: 3330, dtype: object\n",
      "0        \n",
      "1        \n",
      "2        \n",
      "3        \n",
      "4        \n",
      "       ..\n",
      "941      \n",
      "942      \n",
      "943      \n",
      "944    🎼🖤\n",
      "945      \n",
      "Length: 946, dtype: object\n"
     ]
    }
   ],
   "source": [
    "print(pos_emojies)\n",
    "print(neg_emojies)"
   ]
  },
  {
   "cell_type": "code",
   "execution_count": null,
   "metadata": {
    "ExecuteTime": {
     "end_time": "2020-03-05T13:00:56.389540Z",
     "start_time": "2020-03-05T13:00:56.377045Z"
    },
    "colab": {},
    "colab_type": "code",
    "hidden": true,
    "id": "mosqVt9fvkjr"
   },
   "outputs": [],
   "source": [
    "pos_emojies = pos_emojies.replace(r'^\\s*$', np.nan, regex=True) # replace empty space with nan .. \n",
    "pos_emojies.dropna(inplace=True)\n",
    "\n",
    "neg_emojies = neg_emojies.replace(r'^\\s*$', np.nan, regex=True) \n",
    "neg_emojies.dropna(inplace=True)"
   ]
  },
  {
   "cell_type": "code",
   "execution_count": 124,
   "metadata": {
    "ExecuteTime": {
     "end_time": "2020-03-05T13:00:56.402152Z",
     "start_time": "2020-03-05T13:00:56.391366Z"
    },
    "colab": {
     "base_uri": "https://localhost:8080/",
     "height": 425
    },
    "colab_type": "code",
    "hidden": true,
    "id": "OHTuxsa_vkju",
    "outputId": "63239643-e2d3-42cb-fa01-66cf29fe857f"
   },
   "outputs": [
    {
     "data": {
      "text/plain": [
       "❤         117\n",
       "😍          93\n",
       "💔          76\n",
       "💙          66\n",
       "♥          47\n",
       "         ... \n",
       "❤❤❤❤❤🌿      1\n",
       "💔💔🥺         1\n",
       "😥❤❤         1\n",
       "🌟           1\n",
       "☹❤❤❤        1\n",
       "Length: 963, dtype: int64"
      ]
     },
     "metadata": {
      "tags": []
     },
     "output_type": "display_data"
    },
    {
     "data": {
      "text/plain": [
       "💔       17\n",
       "😂       14\n",
       "🙂       10\n",
       "😷        6\n",
       "😩        6\n",
       "        ..\n",
       "🖐        1\n",
       "😫😫😫😫     1\n",
       "😰😤🤬      1\n",
       "🥴😩🤮      1\n",
       "😬        1\n",
       "Length: 148, dtype: int64"
      ]
     },
     "metadata": {
      "tags": []
     },
     "output_type": "display_data"
    }
   ],
   "source": [
    "display(pos_emojies.value_counts())\n",
    "\n",
    "display(neg_emojies.value_counts())"
   ]
  },
  {
   "cell_type": "code",
   "execution_count": null,
   "metadata": {
    "ExecuteTime": {
     "end_time": "2020-03-05T13:00:56.410532Z",
     "start_time": "2020-03-05T13:00:56.404553Z"
    },
    "colab": {},
    "colab_type": "code",
    "hidden": true,
    "id": "nmg7KIGOvkjw"
   },
   "outputs": [],
   "source": [
    "pos_arr = []\n",
    "neg_arr = []\n",
    "for pos_row, neg_row in zip(pos_emojies, neg_emojies):\n",
    "    for p_item, n_item  in zip(pos_row, neg_row):\n",
    "        pos_arr.append(p_item)\n",
    "        neg_arr.append(n_item)\n",
    "     \n",
    "pos_emojies = pd.Series(pos_arr)  \n",
    "neg_emojies = pd.Series(neg_arr)      "
   ]
  },
  {
   "cell_type": "code",
   "execution_count": 126,
   "metadata": {
    "ExecuteTime": {
     "end_time": "2020-03-05T13:00:56.426386Z",
     "start_time": "2020-03-05T13:00:56.412719Z"
    },
    "colab": {
     "base_uri": "https://localhost:8080/",
     "height": 258
    },
    "colab_type": "code",
    "hidden": true,
    "id": "jzmlVq6lvkjz",
    "outputId": "4037ddb7-4fae-4baf-e697-a503f2694823"
   },
   "outputs": [
    {
     "data": {
      "text/plain": [
       "😍    66\n",
       "😭    43\n",
       "❤    29\n",
       "💔    24\n",
       "😂    13\n",
       "🥺    12\n",
       "♥    10\n",
       "💙     9\n",
       "🔥     8\n",
       "🎡     6\n",
       "dtype: int64"
      ]
     },
     "metadata": {
      "tags": []
     },
     "output_type": "display_data"
    },
    {
     "name": "stderr",
     "output_type": "stream",
     "text": [
      "/usr/local/lib/python3.6/dist-packages/ipykernel_launcher.py:3: FutureWarning: The signature of `Series.to_csv` was aligned to that of `DataFrame.to_csv`, and argument 'header' will change its default value from False to True: please pass an explicit value to suppress this warning.\n",
      "  This is separate from the ipykernel package so we can avoid doing imports until\n"
     ]
    }
   ],
   "source": [
    "display(pos_emojies.value_counts()[:10])\n",
    "# display(pos_emojies.value_counts()[-7:])\n",
    "pos_emojies.value_counts()[:10].to_csv('postive_emojies.csv', index=True)"
   ]
  },
  {
   "cell_type": "code",
   "execution_count": 127,
   "metadata": {
    "ExecuteTime": {
     "end_time": "2020-03-05T13:00:56.438074Z",
     "start_time": "2020-03-05T13:00:56.428130Z"
    },
    "colab": {
     "base_uri": "https://localhost:8080/",
     "height": 258
    },
    "colab_type": "code",
    "hidden": true,
    "id": "k-zOJ3w0vkj2",
    "outputId": "9ff8e4d3-7add-4a0b-ff12-1be5cb8160b7"
   },
   "outputs": [
    {
     "data": {
      "text/plain": [
       "💔    50\n",
       "😂    30\n",
       "😭    23\n",
       "🙂    20\n",
       "🏻    12\n",
       "😷    10\n",
       "😡    10\n",
       "🤢     9\n",
       "😩     8\n",
       "❤     8\n",
       "dtype: int64"
      ]
     },
     "metadata": {
      "tags": []
     },
     "output_type": "display_data"
    },
    {
     "name": "stderr",
     "output_type": "stream",
     "text": [
      "/usr/local/lib/python3.6/dist-packages/ipykernel_launcher.py:3: FutureWarning: The signature of `Series.to_csv` was aligned to that of `DataFrame.to_csv`, and argument 'header' will change its default value from False to True: please pass an explicit value to suppress this warning.\n",
      "  This is separate from the ipykernel package so we can avoid doing imports until\n"
     ]
    }
   ],
   "source": [
    "display(neg_emojies.value_counts()[:10])\n",
    "# display(neg_emojies.value_counts()[-7:])\n",
    "neg_emojies.value_counts()[:10].to_csv('negative_emojies.csv', index=True)"
   ]
  },
  {
   "cell_type": "code",
   "execution_count": null,
   "metadata": {
    "ExecuteTime": {
     "end_time": "2020-03-05T13:00:56.800644Z",
     "start_time": "2020-03-05T13:00:56.439960Z"
    },
    "colab": {},
    "colab_type": "code",
    "hidden": true,
    "id": "4iOzvlJYvkj4"
   },
   "outputs": [],
   "source": [
    "cleaned = utils.get_arabic_words(merged.text, handle_emojies='remove', remove_repeated_char=True)"
   ]
  },
  {
   "cell_type": "code",
   "execution_count": 129,
   "metadata": {
    "ExecuteTime": {
     "end_time": "2020-03-05T13:00:57.049702Z",
     "start_time": "2020-03-05T13:00:56.802423Z"
    },
    "colab": {
     "base_uri": "https://localhost:8080/",
     "height": 221
    },
    "colab_type": "code",
    "hidden": true,
    "id": "Be41CPEIvkj7",
    "outputId": "6fb3660f-bdce-4332-e1ef-944023b481ae"
   },
   "outputs": [
    {
     "data": {
      "text/plain": [
       "30                تفوووتك\n",
       "46              ابداااااع\n",
       "52      ههههههههههههههههه\n",
       "62              انجاززززز\n",
       "91            وكوووووووبه\n",
       "              ...        \n",
       "4973             اوووووفر\n",
       "4977               عيبببب\n",
       "4978               جددددا\n",
       "5003       خلاااااااااااص\n",
       "5022          مستحييييييل\n",
       "Length: 671, dtype: object"
      ]
     },
     "execution_count": 129,
     "metadata": {
      "tags": []
     },
     "output_type": "execute_result"
    }
   ],
   "source": [
    "flagged = utils.repeated_char(merged.text)\n",
    "flagged = flagged.replace(r'^\\s*$', np.nan, regex=True)\n",
    "flagged[flagged.notna()]"
   ]
  },
  {
   "cell_type": "code",
   "execution_count": null,
   "metadata": {
    "ExecuteTime": {
     "end_time": "2020-03-05T13:00:57.053454Z",
     "start_time": "2020-03-05T13:00:57.051419Z"
    },
    "colab": {},
    "colab_type": "code",
    "hidden": true,
    "id": "lrBThEaIvkj-"
   },
   "outputs": [],
   "source": [
    "# combind = ' '.join(cleaned)"
   ]
  },
  {
   "cell_type": "code",
   "execution_count": null,
   "metadata": {
    "ExecuteTime": {
     "end_time": "2020-03-05T13:00:57.056883Z",
     "start_time": "2020-03-05T13:00:57.055180Z"
    },
    "colab": {},
    "colab_type": "code",
    "hidden": true,
    "id": "VQPkfr26vkkB"
   },
   "outputs": [],
   "source": [
    "# data = arabic_reshaper.reshape(combind)\n",
    "# data = get_display(data)"
   ]
  },
  {
   "cell_type": "code",
   "execution_count": null,
   "metadata": {
    "ExecuteTime": {
     "end_time": "2020-03-05T13:00:57.060397Z",
     "start_time": "2020-03-05T13:00:57.058444Z"
    },
    "colab": {},
    "colab_type": "code",
    "hidden": true,
    "id": "Dl8xlIUYvkkD"
   },
   "outputs": [],
   "source": [
    "# wordcloud = WordCloud(font_path=FONT_PATH, background_color='black',\n",
    "#                   mode='RGBA', width=2000, height=1000, min_font_size=10).generate(data)"
   ]
  },
  {
   "cell_type": "code",
   "execution_count": null,
   "metadata": {
    "ExecuteTime": {
     "end_time": "2020-03-05T13:00:57.064208Z",
     "start_time": "2020-03-05T13:00:57.061833Z"
    },
    "colab": {},
    "colab_type": "code",
    "hidden": true,
    "id": "qJ2p6GkfvkkF"
   },
   "outputs": [],
   "source": [
    "# wordcloud.to_file('word_cloud_black.png')"
   ]
  },
  {
   "cell_type": "code",
   "execution_count": null,
   "metadata": {
    "ExecuteTime": {
     "end_time": "2020-03-05T13:00:57.068079Z",
     "start_time": "2020-03-05T13:00:57.065978Z"
    },
    "colab": {},
    "colab_type": "code",
    "hidden": true,
    "id": "Bi4DQqvYvkkH"
   },
   "outputs": [],
   "source": [
    "# plt.figure(figsize = (25, 25)) \n",
    "# plt.imshow(wordcloud, interpolation=\"bilinear\") \n",
    "# plt.axis(\"off\") \n",
    "# plt.tight_layout() \n",
    "# plt.show()"
   ]
  },
  {
   "cell_type": "code",
   "execution_count": 135,
   "metadata": {
    "ExecuteTime": {
     "end_time": "2020-03-05T13:00:57.318193Z",
     "start_time": "2020-03-05T13:00:57.069714Z"
    },
    "colab": {
     "base_uri": "https://localhost:8080/",
     "height": 502
    },
    "colab_type": "code",
    "hidden": true,
    "id": "MZZk_IWRvkkK",
    "outputId": "45d143ef-165d-4a6c-9774-e7e85dbe1227"
   },
   "outputs": [
    {
     "data": {
      "image/png": "[encoded data removed]",
      "text/plain": [
       "<Figure size 1080x504 with 1 Axes>"
      ]
     },
     "metadata": {
      "tags": []
     },
     "output_type": "display_data"
    }
   ],
   "source": [
    "fig, ax = plt.subplots(figsize=(15, 7))\n",
    "sns.countplot(merged[merged.event=='carnival_bolivard'].label, palette='deep')\n",
    "event = 'مسيرة بوليفارد'\n",
    "event = arabic_reshaper.reshape(event)\n",
    "event = get_display(event)\n",
    "plt.title(f'Carnival Boulevard ({event})', fontsize=40)\n",
    "plt.xlabel('Labels', fontsize=30)\n",
    "plt.savefig('carnival_boulevard.png')"
   ]
  },
  {
   "cell_type": "code",
   "execution_count": 136,
   "metadata": {
    "ExecuteTime": {
     "end_time": "2020-03-05T13:00:57.519584Z",
     "start_time": "2020-03-05T13:00:57.320495Z"
    },
    "colab": {
     "base_uri": "https://localhost:8080/",
     "height": 502
    },
    "colab_type": "code",
    "hidden": true,
    "id": "twTu763yvkkN",
    "outputId": "49b2227c-0f4b-4fd8-ac4c-d8baecc824d5"
   },
   "outputs": [
    {
     "data": {
      "image/png": "[encoded data removed]",
      "text/plain": [
       "<Figure size 1080x504 with 1 Axes>"
      ]
     },
     "metadata": {
      "tags": []
     },
     "output_type": "display_data"
    }
   ],
   "source": [
    "fig, ax = plt.subplots(figsize=(15, 7))\n",
    "\n",
    "sns.countplot(merged[merged.event=='shm'].label, palette='deep')\n",
    "event = 'سهم'\n",
    "event = arabic_reshaper.reshape(event)\n",
    "event = get_display(event)\n",
    "plt.title(f'SHM event ({event})', fontsize=40)\n",
    "plt.xlabel('Labels', fontsize=30)\n",
    "plt.savefig('shm.png')"
   ]
  },
  {
   "cell_type": "code",
   "execution_count": 137,
   "metadata": {
    "ExecuteTime": {
     "end_time": "2020-03-05T13:00:57.703985Z",
     "start_time": "2020-03-05T13:00:57.521303Z"
    },
    "colab": {
     "base_uri": "https://localhost:8080/",
     "height": 501
    },
    "colab_type": "code",
    "hidden": true,
    "id": "__5cNTxqvkkQ",
    "outputId": "6f3e84e2-c183-4a40-a31a-684961573e46"
   },
   "outputs": [
    {
     "data": {
      "image/png": "[encoded data removed]",
      "text/plain": [
       "<Figure size 1080x504 with 1 Axes>"
      ]
     },
     "metadata": {
      "tags": []
     },
     "output_type": "display_data"
    }
   ],
   "source": [
    "fig, ax = plt.subplots(figsize=(15, 7))\n",
    "\n",
    "sns.countplot(merged[merged.event=='winter_wonder_land'].label, palette=\"deep\")\n",
    "\n",
    "plt.title('Winter Wonder Land ', fontsize=40)\n",
    "plt.xlabel('Labels', fontsize=30)\n",
    "plt.savefig('winter_wonder_land.png')"
   ]
  },
  {
   "cell_type": "code",
   "execution_count": 138,
   "metadata": {
    "ExecuteTime": {
     "end_time": "2020-03-05T13:00:57.946508Z",
     "start_time": "2020-03-05T13:00:57.705877Z"
    },
    "colab": {
     "base_uri": "https://localhost:8080/",
     "height": 501
    },
    "colab_type": "code",
    "hidden": true,
    "id": "WS_2w7aYvkkS",
    "outputId": "c307bc25-fcda-4a67-bd61-98792a9bcab9"
   },
   "outputs": [
    {
     "data": {
      "image/png": "[encoded data removed]",
      "text/plain": [
       "<Figure size 1080x504 with 1 Axes>"
      ]
     },
     "metadata": {
      "tags": []
     },
     "output_type": "display_data"
    }
   ],
   "source": [
    "fig, ax = plt.subplots(figsize=(15, 7))\n",
    "\n",
    "sns.countplot(merged.label, palette='deep')\n",
    "# event = 'سهم'\n",
    "# event = arabic_reshaper.reshape(event)\n",
    "# event = get_display(event)\n",
    "plt.title('all events ', fontsize=40)\n",
    "plt.xlabel('Labels', fontsize=30)\n",
    "plt.savefig('events.png')"
   ]
  },
  {
   "cell_type": "code",
   "execution_count": null,
   "metadata": {
    "ExecuteTime": {
     "end_time": "2020-03-05T13:00:58.025218Z",
     "start_time": "2020-03-05T13:00:57.948476Z"
    },
    "colab": {},
    "colab_type": "code",
    "hidden": true,
    "id": "fspuyboEvkkV"
   },
   "outputs": [],
   "source": [
    "wonder_land = utils.get_arabic_words(winter.text, handle_emojies='remove', remove_repeated_char=False)\n",
    "wonder_land = ' '.join(wonder_land)"
   ]
  },
  {
   "cell_type": "code",
   "execution_count": null,
   "metadata": {
    "ExecuteTime": {
     "end_time": "2020-03-05T13:01:02.873984Z",
     "start_time": "2020-03-05T13:00:58.026707Z"
    },
    "colab": {},
    "colab_type": "code",
    "hidden": true,
    "id": "G5zJaMvfvkkY"
   },
   "outputs": [],
   "source": [
    "# data = arabic_reshaper.reshape(wonder_land)\n",
    "# data = get_display(data)\n",
    "# wordcloud = WordCloud(background_color='black',\n",
    "#                   mode='RGBA', width=2000, height=1000, min_font_size=10).generate(data)"
   ]
  },
  {
   "cell_type": "code",
   "execution_count": null,
   "metadata": {
    "ExecuteTime": {
     "end_time": "2020-03-05T13:01:03.730069Z",
     "start_time": "2020-03-05T13:01:02.875747Z"
    },
    "colab": {},
    "colab_type": "code",
    "hidden": true,
    "id": "BBK6NHM_vkkc"
   },
   "outputs": [],
   "source": [
    "# plt.figure(figsize = (15, 15)) \n",
    "# plt.imshow(wordcloud, interpolation=\"bilinear\") \n",
    "# plt.title('Word Cloud Winter Wonder Land event', fontsize=40)\n",
    "# plt.axis(\"off\") \n",
    "# plt.savefig('Word_Cloud_Winter_Wonder_Land.png')\n",
    "# plt.show()"
   ]
  },
  {
   "cell_type": "code",
   "execution_count": null,
   "metadata": {
    "ExecuteTime": {
     "end_time": "2020-03-05T13:01:03.803850Z",
     "start_time": "2020-03-05T13:01:03.731872Z"
    },
    "colab": {},
    "colab_type": "code",
    "hidden": true,
    "id": "eQ8dsKYUvkkf"
   },
   "outputs": [],
   "source": [
    "shm_event = utils.get_arabic_words(shm.text, handle_emojies='remove', remove_repeated_char=False)\n",
    "shm_event = ' '.join(shm_event)"
   ]
  },
  {
   "cell_type": "code",
   "execution_count": null,
   "metadata": {
    "ExecuteTime": {
     "end_time": "2020-03-05T13:01:08.267649Z",
     "start_time": "2020-03-05T13:01:03.805821Z"
    },
    "colab": {},
    "colab_type": "code",
    "hidden": true,
    "id": "3R1oHlN_vkkg"
   },
   "outputs": [],
   "source": [
    "# data = arabic_reshaper.reshape(shm_event)\n",
    "# data = get_display(data)\n",
    "# wordcloud = WordCloud(font_path=FONT_PATH, background_color='black',\n",
    "#                   mode='RGBA', width=2000, height=1000, min_font_size=10).generate(data)"
   ]
  },
  {
   "cell_type": "code",
   "execution_count": null,
   "metadata": {
    "ExecuteTime": {
     "end_time": "2020-03-05T13:01:09.233407Z",
     "start_time": "2020-03-05T13:01:08.269459Z"
    },
    "colab": {},
    "colab_type": "code",
    "hidden": true,
    "id": "OabuvRz1vkkk"
   },
   "outputs": [],
   "source": [
    "# plt.figure(figsize = (15, 15)) \n",
    "# plt.imshow(wordcloud, interpolation=\"bilinear\") \n",
    "# plt.axis(\"off\") \n",
    "# plt.title('Word Cloud SHM event', fontsize=40)\n",
    "# plt.tight_layout() \n",
    "# plt.savefig('Word_Cloud_SHM_Event.png')\n",
    "# plt.show()"
   ]
  },
  {
   "cell_type": "code",
   "execution_count": null,
   "metadata": {
    "ExecuteTime": {
     "end_time": "2020-03-05T13:01:09.352236Z",
     "start_time": "2020-03-05T13:01:09.234972Z"
    },
    "colab": {},
    "colab_type": "code",
    "hidden": true,
    "id": "yN5yE_3Tvkkm"
   },
   "outputs": [],
   "source": [
    "bolivard_event = utils.get_arabic_words(bolivard.text, handle_emojies='remove', remove_repeated_char=False)\n",
    "bolivard_event = ' '.join(bolivard_event)"
   ]
  },
  {
   "cell_type": "code",
   "execution_count": null,
   "metadata": {
    "ExecuteTime": {
     "end_time": "2020-03-05T13:01:14.604107Z",
     "start_time": "2020-03-05T13:01:09.353832Z"
    },
    "colab": {},
    "colab_type": "code",
    "hidden": true,
    "id": "L-zryTdNvkko"
   },
   "outputs": [],
   "source": [
    "# data = arabic_reshaper.reshape(bolivard_event)\n",
    "# data = get_display(data)\n",
    "# wordcloud = WordCloud(font_path=FONT_PATH, background_color='black',\n",
    "#                   mode='RGBA', width=2000, height=1000, min_font_size=10).generate(data)"
   ]
  },
  {
   "cell_type": "code",
   "execution_count": null,
   "metadata": {
    "ExecuteTime": {
     "end_time": "2020-03-05T13:01:15.575698Z",
     "start_time": "2020-03-05T13:01:14.605792Z"
    },
    "colab": {},
    "colab_type": "code",
    "hidden": true,
    "id": "3qXIzg-Avkkq"
   },
   "outputs": [],
   "source": [
    "# plt.figure(figsize = (15, 15)) \n",
    "# plt.imshow(wordcloud, interpolation=\"bilinear\") \n",
    "# plt.axis(\"off\") \n",
    "# plt.title('Word Cloud Carnival Boulevard', fontsize=40)\n",
    "# plt.tight_layout() \n",
    "# plt.savefig('Word_Cloud_Carnival_Boulevard.png')\n",
    "# plt.show()"
   ]
  },
  {
   "cell_type": "code",
   "execution_count": null,
   "metadata": {
    "colab": {},
    "colab_type": "code",
    "hidden": true,
    "id": "NiawGi0Kvkks"
   },
   "outputs": [],
   "source": []
  },
  {
   "cell_type": "markdown",
   "metadata": {
    "colab_type": "text",
    "id": "93afVI4mvkkt"
   },
   "source": [
    "## Model Experiments \n",
    "* Use tfidf\n",
    "* Use countVect\n",
    "* Use lightLem..\n",
    "* Use POS Tagging ( Java, or C++)\n",
    "* Experiemnt with different models.\n",
    "<!-- * Use Word2Vec -->\n",
    " "
   ]
  },
  {
   "cell_type": "code",
   "execution_count": 378,
   "metadata": {
    "ExecuteTime": {
     "end_time": "2020-03-05T13:01:15.708281Z",
     "start_time": "2020-03-05T13:01:15.577322Z"
    },
    "colab": {
     "base_uri": "https://localhost:8080/",
     "height": 51
    },
    "colab_type": "code",
    "id": "RI7Lh-vivkku",
    "outputId": "bfa3f80d-836f-4c0d-8483-17c8f7e990ff"
   },
   "outputs": [
    {
     "name": "stdout",
     "output_type": "stream",
     "text": [
      "[nltk_data] Downloading package punkt to /root/nltk_data...\n",
      "[nltk_data]   Package punkt is already up-to-date!\n"
     ]
    }
   ],
   "source": [
    "from nltk.tokenize import word_tokenize\n",
    "import nltk\n",
    "# from nltk.stem import WordNetLemmatizer\n",
    "nltk.download('punkt')\n",
    "\n",
    "from sklearn.metrics import confusion_matrix, accuracy_score, classification_report, plot_confusion_matrix\n",
    "from sklearn.model_selection import GridSearchCV, train_test_split\n",
    "from sklearn.ensemble import RandomForestClassifier\n",
    "from sklearn.feature_extraction.text import CountVectorizer, TfidfVectorizer\n",
    "from sklearn.naive_bayes import GaussianNB\n",
    "from sklearn.linear_model import LogisticRegression\n",
    "from sklearn.svm import SVC\n",
    "from sklearn.preprocessing import FunctionTransformer, LabelEncoder\n",
    "from sklearn.multiclass import OneVsRestClassifier\n",
    "from sklearn.neighbors import KNeighborsClassifier\n",
    "from tashaphyne.stemming import ArabicLightStemmer\n",
    "from sklearn.pipeline import Pipeline\n",
    "import gensim\n",
    "from sklearn.manifold import TSNE"
   ]
  },
  {
   "cell_type": "code",
   "execution_count": 24,
   "metadata": {
    "ExecuteTime": {
     "end_time": "2020-03-05T13:01:15.719552Z",
     "start_time": "2020-03-05T13:01:15.709968Z"
    },
    "colab": {
     "base_uri": "https://localhost:8080/",
     "height": 111
    },
    "colab_type": "code",
    "id": "zVUohTcNvkkv",
    "outputId": "dae6fc8d-7a03-40a0-871b-6ef3e7970272"
   },
   "outputs": [
    {
     "data": {
      "text/html": [
       "<div>\n",
       "<style scoped>\n",
       "    .dataframe tbody tr th:only-of-type {\n",
       "        vertical-align: middle;\n",
       "    }\n",
       "\n",
       "    .dataframe tbody tr th {\n",
       "        vertical-align: top;\n",
       "    }\n",
       "\n",
       "    .dataframe thead th {\n",
       "        text-align: right;\n",
       "    }\n",
       "</style>\n",
       "<table border=\"1\" class=\"dataframe\">\n",
       "  <thead>\n",
       "    <tr style=\"text-align: right;\">\n",
       "      <th></th>\n",
       "      <th>date</th>\n",
       "      <th>event</th>\n",
       "      <th>fv_count</th>\n",
       "      <th>label</th>\n",
       "      <th>loca</th>\n",
       "      <th>rt-count</th>\n",
       "      <th>text</th>\n",
       "      <th>user-name</th>\n",
       "    </tr>\n",
       "  </thead>\n",
       "  <tbody>\n",
       "    <tr>\n",
       "      <th>0</th>\n",
       "      <td>2019-10-26 20:13:28</td>\n",
       "      <td>winter_wonder_land</td>\n",
       "      <td>NaN</td>\n",
       "      <td>Positive</td>\n",
       "      <td>NaN</td>\n",
       "      <td>NaN</td>\n",
       "      <td>اجمل مكان رحت له للحين في موسم الرياض ونتر وند...</td>\n",
       "      <td>NaN</td>\n",
       "    </tr>\n",
       "    <tr>\n",
       "      <th>1</th>\n",
       "      <td>2019-10-26 20:12:23</td>\n",
       "      <td>winter_wonder_land</td>\n",
       "      <td>NaN</td>\n",
       "      <td>Neutral</td>\n",
       "      <td>NaN</td>\n",
       "      <td>NaN</td>\n",
       "      <td>متى يعقلون ذوولا ؟؟؟😂💔\\n\\n#ونتر_وندرلاند #وينت...</td>\n",
       "      <td>NaN</td>\n",
       "    </tr>\n",
       "  </tbody>\n",
       "</table>\n",
       "</div>"
      ],
      "text/plain": [
       "                  date  ... user-name\n",
       "0  2019-10-26 20:13:28  ...       NaN\n",
       "1  2019-10-26 20:12:23  ...       NaN\n",
       "\n",
       "[2 rows x 8 columns]"
      ]
     },
     "metadata": {
      "tags": []
     },
     "output_type": "display_data"
    }
   ],
   "source": [
    "display(merged.head(2))"
   ]
  },
  {
   "cell_type": "code",
   "execution_count": null,
   "metadata": {
    "colab": {},
    "colab_type": "code",
    "id": "7dzJa9PbF-EO"
   },
   "outputs": [],
   "source": [
    "# store data as texts to"
   ]
  },
  {
   "cell_type": "code",
   "execution_count": 38,
   "metadata": {
    "ExecuteTime": {
     "end_time": "2020-03-05T13:01:15.724599Z",
     "start_time": "2020-03-05T13:01:15.721094Z"
    },
    "colab": {
     "base_uri": "https://localhost:8080/",
     "height": 71
    },
    "colab_type": "code",
    "id": "KrU9zV0Qvkkx",
    "outputId": "8e97dfcd-8a18-4cc3-f0f8-e348ebfc2ece"
   },
   "outputs": [
    {
     "name": "stderr",
     "output_type": "stream",
     "text": [
      "/usr/local/lib/python3.6/dist-packages/sklearn/preprocessing/_label.py:235: DataConversionWarning: A column-vector y was passed when a 1d array was expected. Please change the shape of y to (n_samples, ), for example using ravel().\n",
      "  y = column_or_1d(y, warn=True)\n"
     ]
    }
   ],
   "source": [
    "X = merged.drop(columns=['date', 'label', 'event', 'user-name', 'loca', 'fv_count', 'rt-count'])\n",
    "y = np.array(merged['label']).reshape(-1, 1)\n",
    "encoder = LabelEncoder().fit(y)"
   ]
  },
  {
   "cell_type": "code",
   "execution_count": 39,
   "metadata": {
    "colab": {
     "base_uri": "https://localhost:8080/",
     "height": 34
    },
    "colab_type": "code",
    "id": "gqRvb3fPVBvs",
    "outputId": "46d5f995-30df-4bb2-b023-8dc65c00498c"
   },
   "outputs": [
    {
     "data": {
      "text/plain": [
       "{'Negative': 0, 'Neutral': 1, 'Positive': 2}"
      ]
     },
     "execution_count": 39,
     "metadata": {
      "tags": []
     },
     "output_type": "execute_result"
    }
   ],
   "source": [
    "la_mapping = dict(zip(encoder.classes_, encoder.transform(encoder.classes_)))\n",
    "la_mapping"
   ]
  },
  {
   "cell_type": "code",
   "execution_count": 40,
   "metadata": {
    "colab": {
     "base_uri": "https://localhost:8080/",
     "height": 71
    },
    "colab_type": "code",
    "id": "xemMKCOdVbUC",
    "outputId": "228cc76e-437d-4f6a-ac06-798966abbb16"
   },
   "outputs": [
    {
     "name": "stderr",
     "output_type": "stream",
     "text": [
      "/usr/local/lib/python3.6/dist-packages/sklearn/preprocessing/_label.py:268: DataConversionWarning: A column-vector y was passed when a 1d array was expected. Please change the shape of y to (n_samples, ), for example using ravel().\n",
      "  y = column_or_1d(y, warn=True)\n"
     ]
    }
   ],
   "source": [
    "y = encoder.transform(y)"
   ]
  },
  {
   "cell_type": "code",
   "execution_count": null,
   "metadata": {
    "colab": {},
    "colab_type": "code",
    "id": "8PTl83gmXgQ6"
   },
   "outputs": [],
   "source": [
    "y = y.reshape(-1, 1)"
   ]
  },
  {
   "cell_type": "code",
   "execution_count": null,
   "metadata": {
    "ExecuteTime": {
     "end_time": "2020-03-05T13:01:16.091339Z",
     "start_time": "2020-03-05T13:01:15.726228Z"
    },
    "code_folding": [],
    "colab": {},
    "colab_type": "code",
    "id": "iawNcQe4vkkz"
   },
   "outputs": [],
   "source": [
    "# clean text\n",
    "X = utils.get_arabic_words(X.text, handle_emojies='remove', remove_repeated_char=True)"
   ]
  },
  {
   "cell_type": "code",
   "execution_count": null,
   "metadata": {
    "colab": {},
    "colab_type": "code",
    "id": "9Yt7sAzJOV0R"
   },
   "outputs": [],
   "source": [
    "X_train, X_test, y_train, y_test = train_test_split(X, y,random_state=42)"
   ]
  },
  {
   "cell_type": "code",
   "execution_count": 44,
   "metadata": {
    "colab": {
     "base_uri": "https://localhost:8080/",
     "height": 34
    },
    "colab_type": "code",
    "id": "HRCkX2S7XsKd",
    "outputId": "b12f9d6b-8f17-4052-d067-0890b94c4526"
   },
   "outputs": [
    {
     "data": {
      "text/plain": [
       "((3770,), (3770, 1))"
      ]
     },
     "execution_count": 44,
     "metadata": {
      "tags": []
     },
     "output_type": "execute_result"
    }
   ],
   "source": [
    "X_train.shape, y_train.shape"
   ]
  },
  {
   "cell_type": "code",
   "execution_count": null,
   "metadata": {
    "ExecuteTime": {
     "end_time": "2020-03-05T13:01:16.096381Z",
     "start_time": "2020-03-05T13:01:16.092819Z"
    },
    "colab": {},
    "colab_type": "code",
    "id": "PECVTHJtvkk0"
   },
   "outputs": [],
   "source": [
    "def tokenize(text):\n",
    "    tokens = word_tokenize(text)\n",
    "    return tokens"
   ]
  },
  {
   "cell_type": "code",
   "execution_count": null,
   "metadata": {
    "colab": {},
    "colab_type": "code",
    "id": "d3j1MArQ76UR"
   },
   "outputs": [],
   "source": [
    "def stem(text):\n",
    "      stemer = ArabicLightStemmer()\n",
    "      tokens = word_tokenize(text)\n",
    "      tokens_ = [stemer.light_stem(word) for word in tokens]\n",
    "      text_ = ' '.join(word for word in tokens_)\n",
    "      return text_"
   ]
  },
  {
   "cell_type": "code",
   "execution_count": null,
   "metadata": {
    "colab": {},
    "colab_type": "code",
    "id": "fJoo45xz8rS7"
   },
   "outputs": [],
   "source": [
    "t = X_train.apply(stem)"
   ]
  },
  {
   "cell_type": "code",
   "execution_count": null,
   "metadata": {
    "colab": {
     "base_uri": "https://localhost:8080/",
     "height": 221
    },
    "colab_type": "code",
    "id": "oF7SDFqg8Skx",
    "outputId": "40f81763-50b7-411c-e647-7146eb76eee2"
   },
   "outputs": [
    {
     "data": {
      "text/plain": [
       "4538    شوف سناب يل سهم دموع ربع ربع لع حظ لع موقع زق ...\n",
       "4194    حن سهم إتذكرين ضم ذكرى صدر غن طاح دموع سامحي ي...\n",
       "1752                 رياض فن ابداع موسم رياض وليفارد رياض\n",
       "445                          تر ندرلاند خت هل رياض خت روح\n",
       "2275    لام علام بن از صف حال الآن مستع يستاهل رتوي صل...\n",
       "                              ...                        \n",
       "4426          له سهم سهم يستاهل ناس مبدع ساح فن طرب تشهدل\n",
       "466       روح تر ندرلاند شف اسعار طلع ماتناسب طبقه متوسطه\n",
       "3092       مسير موسم رياض هالابداع علم حلم موسم رياض طبيع\n",
       "3772                       حس منقهر شف يل سهم مسو عني عاد\n",
       "860                      خلاص راض سافر دو ملاه تر ندرلاند\n",
       "Length: 3770, dtype: object"
      ]
     },
     "execution_count": 59,
     "metadata": {
      "tags": []
     },
     "output_type": "execute_result"
    }
   ],
   "source": [
    "t"
   ]
  },
  {
   "cell_type": "code",
   "execution_count": null,
   "metadata": {
    "colab": {
     "base_uri": "https://localhost:8080/",
     "height": 119
    },
    "colab_type": "code",
    "id": "bDdNoMZo_h7Y",
    "outputId": "559b8e71-820e-48f1-f585-44d99543a5e9"
   },
   "outputs": [
    {
     "name": "stdout",
     "output_type": "stream",
     "text": [
      "عقل\n",
      "False\n",
      "['يعقلون']\n",
      "False\n",
      "['يعقلون']\n",
      "ERROR! Session/line number was not unique in database. History logging moved to new session 69\n"
     ]
    }
   ],
   "source": [
    "word = 'يعقلون'\n",
    "stemer = ArabicLightStemmer()\n",
    "word_stem = stemer.light_stem(word)\n",
    "print(word_stem)\n",
    "print(tokenize(word))"
   ]
  },
  {
   "cell_type": "code",
   "execution_count": null,
   "metadata": {
    "ExecuteTime": {
     "end_time": "2020-03-05T13:01:16.102668Z",
     "start_time": "2020-03-05T13:01:16.097860Z"
    },
    "colab": {},
    "colab_type": "code",
    "id": "Z8R7PlXwvkk3"
   },
   "outputs": [],
   "source": [
    "def build_model(model, use_tfidf=False):\n",
    "    if use_tfidf: \n",
    "        steps = [\n",
    "          ('tfidf', TfidfVectorizer()),\n",
    "          ('spare_to_dense', FunctionTransformer(lambda x: x.todense(), accept_sparse=True)),\n",
    "          ('clf', model)\n",
    "        ]    \n",
    "        model = Pipeline(steps)\n",
    "    else:\n",
    "        steps = [\n",
    "          ('Count', CountVectorizer()), \n",
    "          ('spare_to_dense', FunctionTransformer(lambda x: x.todense(), accept_sparse=True)),\n",
    "          ('clf', model)\n",
    "        ]\n",
    "        model = Pipeline(steps)\n",
    "    return model"
   ]
  },
  {
   "cell_type": "code",
   "execution_count": null,
   "metadata": {
    "colab": {},
    "colab_type": "code",
    "id": "wRAsrNpvJnhi"
   },
   "outputs": [],
   "source": [
    "def display_results(classiffier, y_test, y_pred):\n",
    "    # labels = np.unique(y_pred)\n",
    "    labels = encoder.classes_\n",
    "    # confusion_mat = confusion_matrix(y_test, y_pred, labels=labels)\n",
    "    accuracy = accuracy_score(y_test, y_pred)\n",
    "    report = classification_report(y_test, y_pred)\n",
    "    conf_mat = plot_confusion_matrix(classiffier, X_test, y_test,\n",
    "                                 display_labels=la_mapping.keys(),\n",
    "                                 cmap=plt.cm.Blues,\n",
    "                                 normalize='true')\n",
    "    print(\"Labels:\", la_mapping)\n",
    "    # print(\"Confusion Matrix:\\n\", confusion_mat)\n",
    "    print(\"Accuracy:\", accuracy)\n",
    "    print(report)"
   ]
  },
  {
   "cell_type": "code",
   "execution_count": 391,
   "metadata": {
    "colab": {
     "base_uri": "https://localhost:8080/",
     "height": 483
    },
    "colab_type": "code",
    "id": "yGXOpnNJJJ91",
    "outputId": "a2310dfc-04a3-493b-8ec1-e15bba88355e"
   },
   "outputs": [
    {
     "name": "stdout",
     "output_type": "stream",
     "text": [
      "Labels: {'Negative': 0, 'Neutral': 1, 'Positive': 2}\n",
      "Accuracy: 0.6109785202863962\n",
      "              precision    recall  f1-score   support\n",
      "\n",
      "           0       0.49      0.49      0.49       229\n",
      "           1       0.26      0.41      0.32       193\n",
      "           2       0.80      0.69      0.74       835\n",
      "\n",
      "    accuracy                           0.61      1257\n",
      "   macro avg       0.52      0.53      0.52      1257\n",
      "weighted avg       0.66      0.61      0.63      1257\n",
      "\n"
     ]
    },
    {
     "data": {
      "image/png": "[encoded data removed]",
      "text/plain": [
       "<Figure size 432x288 with 2 Axes>"
      ]
     },
     "metadata": {
      "tags": []
     },
     "output_type": "display_data"
    }
   ],
   "source": [
    "# Testing display\n",
    "nb_vec =  build_model(OneVsRestClassifier(GaussianNB()), use_tfidf=True)\n",
    "nb_vec.fit(X_train, y_train.ravel())\n",
    "y_pred = np.array(nb_vec.predict(X_test)).reshape(-1, 1)\n",
    "display_results(nb_vec, y_test, y_pred)\n"
   ]
  },
  {
   "cell_type": "code",
   "execution_count": null,
   "metadata": {
    "colab": {
     "base_uri": "https://localhost:8080/",
     "height": 425
    },
    "colab_type": "code",
    "id": "CshYmlldOphh",
    "outputId": "90d6643e-c53d-43d1-f56b-5064a711de9c"
   },
   "outputs": [
    {
     "data": {
      "text/plain": [
       "Pipeline(memory=None,\n",
       "         steps=[('tfidf',\n",
       "                 TfidfVectorizer(analyzer='word', binary=False,\n",
       "                                 decode_error='strict',\n",
       "                                 dtype=<class 'numpy.float64'>,\n",
       "                                 encoding='utf-8', input='content',\n",
       "                                 lowercase=True, max_df=1.0, max_features=None,\n",
       "                                 min_df=1, ngram_range=(1, 1), norm='l2',\n",
       "                                 preprocessor=None, smooth_idf=True,\n",
       "                                 stop_words=None, strip_accents=None,\n",
       "                                 sublinear_tf=False,\n",
       "                                 token_pattern='...\n",
       "                                 tokenizer=None, use_idf=True,\n",
       "                                 vocabulary=None)),\n",
       "                ('spare_to_dense',\n",
       "                 FunctionTransformer(accept_sparse=True, check_inverse=True,\n",
       "                                     func=<function build_model.<locals>.<lambda> at 0x7fec0ff98bf8>,\n",
       "                                     inv_kw_args=None, inverse_func=None,\n",
       "                                     kw_args=None, validate=False)),\n",
       "                ('clf',\n",
       "                 OneVsRestClassifier(estimator=GaussianNB(priors=None,\n",
       "                                                          var_smoothing=1e-09),\n",
       "                                     n_jobs=None))],\n",
       "         verbose=False)"
      ]
     },
     "execution_count": 67,
     "metadata": {
      "tags": []
     },
     "output_type": "execute_result"
    }
   ],
   "source": [
    "# model without stem\n",
    "nb_vec =  build_model(OneVsRestClassifier(GaussianNB()), use_tfidf=False)\n",
    "nb_vec.fit(X_train, y_train.ravel())\n",
    "nb_tfidf =  build_model(OneVsRestClassifier(GaussianNB()), use_tfidf=True)\n",
    "nb_tfidf.fit(X_train, y_train.ravel())"
   ]
  },
  {
   "cell_type": "code",
   "execution_count": null,
   "metadata": {
    "colab": {},
    "colab_type": "code",
    "id": "ti6HhtFNPOho"
   },
   "outputs": [],
   "source": [
    "# saving models\n",
    "pickle.dump(nb_vec.steps[-1][-1], open('naive_bayes_vec_no_stem.sav', 'wb'))\n",
    "pickle.dump(nb_tfidf.steps[-1][-1], open('naive_bayes_tfidf_no_stem.sav', 'wb'))"
   ]
  },
  {
   "cell_type": "code",
   "execution_count": null,
   "metadata": {
    "colab": {},
    "colab_type": "code",
    "id": "JKP6cBPSQhfe"
   },
   "outputs": [],
   "source": [
    "# with stem\n",
    "X_train_stem = X_train.apply(stem) "
   ]
  },
  {
   "cell_type": "code",
   "execution_count": null,
   "metadata": {
    "colab": {
     "base_uri": "https://localhost:8080/",
     "height": 425
    },
    "colab_type": "code",
    "id": "72AT5lgmQeiq",
    "outputId": "68b8fc59-2930-497c-a9f1-6fd57cb8f7db"
   },
   "outputs": [
    {
     "data": {
      "text/plain": [
       "Pipeline(memory=None,\n",
       "         steps=[('tfidf',\n",
       "                 TfidfVectorizer(analyzer='word', binary=False,\n",
       "                                 decode_error='strict',\n",
       "                                 dtype=<class 'numpy.float64'>,\n",
       "                                 encoding='utf-8', input='content',\n",
       "                                 lowercase=True, max_df=1.0, max_features=None,\n",
       "                                 min_df=1, ngram_range=(1, 1), norm='l2',\n",
       "                                 preprocessor=None, smooth_idf=True,\n",
       "                                 stop_words=None, strip_accents=None,\n",
       "                                 sublinear_tf=False,\n",
       "                                 token_pattern='...\n",
       "                                 tokenizer=None, use_idf=True,\n",
       "                                 vocabulary=None)),\n",
       "                ('spare_to_dense',\n",
       "                 FunctionTransformer(accept_sparse=True, check_inverse=True,\n",
       "                                     func=<function build_model.<locals>.<lambda> at 0x7fec102c7840>,\n",
       "                                     inv_kw_args=None, inverse_func=None,\n",
       "                                     kw_args=None, validate=False)),\n",
       "                ('clf',\n",
       "                 OneVsRestClassifier(estimator=GaussianNB(priors=None,\n",
       "                                                          var_smoothing=1e-09),\n",
       "                                     n_jobs=None))],\n",
       "         verbose=False)"
      ]
     },
     "execution_count": 70,
     "metadata": {
      "tags": []
     },
     "output_type": "execute_result"
    }
   ],
   "source": [
    "nb_vec_stem =  build_model(OneVsRestClassifier(GaussianNB()), use_tfidf=False)\n",
    "nb_vec_stem.fit(X_train_stem, y_train.ravel())\n",
    "nb_tfidf_stem =  build_model(OneVsRestClassifier(GaussianNB()), use_tfidf=True)\n",
    "nb_tfidf_stem.fit(X_train_stem, y_train.ravel())"
   ]
  },
  {
   "cell_type": "code",
   "execution_count": null,
   "metadata": {
    "colab": {},
    "colab_type": "code",
    "id": "9pAJCtQIQTgJ"
   },
   "outputs": [],
   "source": [
    "# saving models\n",
    "pickle.dump(nb_vec_stem.steps[-1][-1], open('naive_bayes_vec_stem.sav', 'wb'))\n",
    "pickle.dump(nb_tfidf_stem.steps[-1][-1], open('naive_bayes_tfidf_stem.sav', 'wb'))"
   ]
  },
  {
   "cell_type": "code",
   "execution_count": null,
   "metadata": {
    "colab": {
     "base_uri": "https://localhost:8080/",
     "height": 765
    },
    "colab_type": "code",
    "id": "jVheKFPRPK6s",
    "outputId": "5f34aeba-c3c0-4c45-a7c3-b21cfecdd532"
   },
   "outputs": [
    {
     "name": "stderr",
     "output_type": "stream",
     "text": [
      "[Parallel(n_jobs=1)]: Using backend SequentialBackend with 1 concurrent workers.\n",
      "[Parallel(n_jobs=1)]: Done   1 out of   1 | elapsed:    3.9s finished\n",
      "[Parallel(n_jobs=1)]: Using backend SequentialBackend with 1 concurrent workers.\n",
      "[Parallel(n_jobs=1)]: Done   1 out of   1 | elapsed:    3.7s finished\n",
      "[Parallel(n_jobs=1)]: Using backend SequentialBackend with 1 concurrent workers.\n",
      "[Parallel(n_jobs=1)]: Done   1 out of   1 | elapsed:    4.8s finished\n",
      "[Parallel(n_jobs=1)]: Using backend SequentialBackend with 1 concurrent workers.\n",
      "[Parallel(n_jobs=1)]: Done   1 out of   1 | elapsed:    2.9s finished\n",
      "[Parallel(n_jobs=1)]: Using backend SequentialBackend with 1 concurrent workers.\n",
      "[Parallel(n_jobs=1)]: Done   1 out of   1 | elapsed:    2.6s finished\n",
      "[Parallel(n_jobs=1)]: Using backend SequentialBackend with 1 concurrent workers.\n",
      "[Parallel(n_jobs=1)]: Done   1 out of   1 | elapsed:    3.0s finished\n"
     ]
    },
    {
     "data": {
      "text/plain": [
       "Pipeline(memory=None,\n",
       "         steps=[('tfidf',\n",
       "                 TfidfVectorizer(analyzer='word', binary=False,\n",
       "                                 decode_error='strict',\n",
       "                                 dtype=<class 'numpy.float64'>,\n",
       "                                 encoding='utf-8', input='content',\n",
       "                                 lowercase=True, max_df=1.0, max_features=None,\n",
       "                                 min_df=1, ngram_range=(1, 1), norm='l2',\n",
       "                                 preprocessor=None, smooth_idf=True,\n",
       "                                 stop_words=None, strip_accents=None,\n",
       "                                 sublinear_tf=False,\n",
       "                                 token_pattern='...\n",
       "                                     inv_kw_args=None, inverse_func=None,\n",
       "                                     kw_args=None, validate=False)),\n",
       "                ('clf',\n",
       "                 OneVsRestClassifier(estimator=LogisticRegression(C=1.0,\n",
       "                                                                  class_weight=None,\n",
       "                                                                  dual=False,\n",
       "                                                                  fit_intercept=True,\n",
       "                                                                  intercept_scaling=1,\n",
       "                                                                  l1_ratio=None,\n",
       "                                                                  max_iter=100,\n",
       "                                                                  multi_class='auto',\n",
       "                                                                  n_jobs=None,\n",
       "                                                                  penalty='l2',\n",
       "                                                                  random_state=None,\n",
       "                                                                  solver='lbfgs',\n",
       "                                                                  tol=0.0001,\n",
       "                                                                  verbose=1,\n",
       "                                                                  warm_start=False),\n",
       "                                     n_jobs=None))],\n",
       "         verbose=False)"
      ]
     },
     "execution_count": 75,
     "metadata": {
      "tags": []
     },
     "output_type": "execute_result"
    }
   ],
   "source": [
    "log_vec = build_model(OneVsRestClassifier(LogisticRegression(verbose=1)), use_tfidf=False)\n",
    "log_vec.fit(X_train, y_train.ravel())\n",
    "log_tfidf =  build_model(OneVsRestClassifier(LogisticRegression(verbose=1)), use_tfidf=True)\n",
    "log_tfidf.fit(X_train, y_train.ravel())"
   ]
  },
  {
   "cell_type": "code",
   "execution_count": null,
   "metadata": {
    "colab": {},
    "colab_type": "code",
    "id": "rTcRLdfWXA8d"
   },
   "outputs": [],
   "source": [
    "pickle.dump(log_vec.steps[-1][-1], open('logistic_vec_no_stem.sav', 'wb'))\n",
    "pickle.dump(log_tfidf.steps[-1][-1], open('logistic_tfidf_no_stem.sav', 'wb'))"
   ]
  },
  {
   "cell_type": "code",
   "execution_count": null,
   "metadata": {
    "colab": {
     "base_uri": "https://localhost:8080/",
     "height": 765
    },
    "colab_type": "code",
    "id": "mBtSGNy-XTc2",
    "outputId": "4d84a83f-d2f8-4fa2-f1de-cc077db97542"
   },
   "outputs": [
    {
     "name": "stderr",
     "output_type": "stream",
     "text": [
      "[Parallel(n_jobs=1)]: Using backend SequentialBackend with 1 concurrent workers.\n",
      "[Parallel(n_jobs=1)]: Done   1 out of   1 | elapsed:    1.9s finished\n",
      "[Parallel(n_jobs=1)]: Using backend SequentialBackend with 1 concurrent workers.\n",
      "[Parallel(n_jobs=1)]: Done   1 out of   1 | elapsed:    1.7s finished\n",
      "[Parallel(n_jobs=1)]: Using backend SequentialBackend with 1 concurrent workers.\n",
      "[Parallel(n_jobs=1)]: Done   1 out of   1 | elapsed:    2.0s finished\n",
      "[Parallel(n_jobs=1)]: Using backend SequentialBackend with 1 concurrent workers.\n",
      "[Parallel(n_jobs=1)]: Done   1 out of   1 | elapsed:    0.9s finished\n",
      "[Parallel(n_jobs=1)]: Using backend SequentialBackend with 1 concurrent workers.\n",
      "[Parallel(n_jobs=1)]: Done   1 out of   1 | elapsed:    1.2s finished\n",
      "[Parallel(n_jobs=1)]: Using backend SequentialBackend with 1 concurrent workers.\n",
      "[Parallel(n_jobs=1)]: Done   1 out of   1 | elapsed:    0.9s finished\n"
     ]
    },
    {
     "data": {
      "text/plain": [
       "Pipeline(memory=None,\n",
       "         steps=[('tfidf',\n",
       "                 TfidfVectorizer(analyzer='word', binary=False,\n",
       "                                 decode_error='strict',\n",
       "                                 dtype=<class 'numpy.float64'>,\n",
       "                                 encoding='utf-8', input='content',\n",
       "                                 lowercase=True, max_df=1.0, max_features=None,\n",
       "                                 min_df=1, ngram_range=(1, 1), norm='l2',\n",
       "                                 preprocessor=None, smooth_idf=True,\n",
       "                                 stop_words=None, strip_accents=None,\n",
       "                                 sublinear_tf=False,\n",
       "                                 token_pattern='...\n",
       "                                     inv_kw_args=None, inverse_func=None,\n",
       "                                     kw_args=None, validate=False)),\n",
       "                ('clf',\n",
       "                 OneVsRestClassifier(estimator=LogisticRegression(C=1.0,\n",
       "                                                                  class_weight=None,\n",
       "                                                                  dual=False,\n",
       "                                                                  fit_intercept=True,\n",
       "                                                                  intercept_scaling=1,\n",
       "                                                                  l1_ratio=None,\n",
       "                                                                  max_iter=100,\n",
       "                                                                  multi_class='auto',\n",
       "                                                                  n_jobs=None,\n",
       "                                                                  penalty='l2',\n",
       "                                                                  random_state=None,\n",
       "                                                                  solver='lbfgs',\n",
       "                                                                  tol=0.0001,\n",
       "                                                                  verbose=1,\n",
       "                                                                  warm_start=False),\n",
       "                                     n_jobs=None))],\n",
       "         verbose=False)"
      ]
     },
     "execution_count": 79,
     "metadata": {
      "tags": []
     },
     "output_type": "execute_result"
    }
   ],
   "source": [
    "log_vec_stem = build_model(OneVsRestClassifier(LogisticRegression(verbose=1)), use_tfidf=False)\n",
    "log_vec_stem.fit(X_train_stem, y_train.ravel())\n",
    "log_tfidf_stem =  build_model(OneVsRestClassifier(LogisticRegression(verbose=1)), use_tfidf=True)\n",
    "log_tfidf_stem.fit(X_train_stem, y_train.ravel())"
   ]
  },
  {
   "cell_type": "code",
   "execution_count": null,
   "metadata": {
    "colab": {},
    "colab_type": "code",
    "id": "SGWgfkrLXZIo"
   },
   "outputs": [],
   "source": [
    "pickle.dump(log_vec_stem.steps[-1][-1], open('logistic_vec_stem.sav', 'wb'))\n",
    "pickle.dump(log_tfidf_stem.steps[-1][-1], open('logistic_tfidf_stem.sav', 'wb'))"
   ]
  },
  {
   "cell_type": "code",
   "execution_count": null,
   "metadata": {
    "colab": {},
    "colab_type": "code",
    "id": "1eI6sMgrYma9"
   },
   "outputs": [],
   "source": [
    "knn_vec = build_model(OneVsRestClassifier(KNeighborsClassifier(n_jobs=-1)), use_tfidf=False)\n",
    "knn_vec.fit(X_train, y_train.ravel())\n",
    "knn_tfidf =  build_model(OneVsRestClassifier(KNeighborsClassifier(n_jobs=-1)), use_tfidf=True)\n",
    "knn_tfidf.fit(X_train, y_train.ravel())\n",
    "\n",
    "pickle.dump(knn_vec.steps[-1][-1], open('KNN_vec_no_stem.sav', 'wb'))\n",
    "pickle.dump(knn_tfidf.steps[-1][-1], open('KNN_tfidf_no_stem.sav', 'wb'))"
   ]
  },
  {
   "cell_type": "code",
   "execution_count": null,
   "metadata": {
    "colab": {},
    "colab_type": "code",
    "id": "e31djSYVYT7Q"
   },
   "outputs": [],
   "source": [
    "knn_vec_stem = build_model(OneVsRestClassifier(OneVsRestClassifier(KNeighborsClassifier(n_jobs=-1))), use_tfidf=False)\n",
    "knn_vec_stem.fit(X_train_stem, y_train.ravel())\n",
    "knn_tfidf_stem =  build_model(OneVsRestClassifier(OneVsRestClassifier(KNeighborsClassifier(n_jobs=-1))), use_tfidf=True)\n",
    "knn_tfidf_stem.fit(X_train_stem, y_train.ravel())\n",
    "\n",
    "pickle.dump(knn_vec_stem.steps[-1][-1], open('KNN_vec_stem.sav', 'wb'))\n",
    "pickle.dump(knn_tfidf_stem.steps[-1][-1], open('KNN_tfidf_stem.sav', 'wb'))"
   ]
  },
  {
   "cell_type": "code",
   "execution_count": null,
   "metadata": {
    "colab": {},
    "colab_type": "code",
    "id": "CduuocC-aWMw"
   },
   "outputs": [],
   "source": [
    "svm_vec = build_model(OneVsRestClassifier(SVC(verbose=1)), use_tfidf=False)\n",
    "svm_vec.fit(X_train, y_train.ravel())\n",
    "svm_tfidf =  build_model(OneVsRestClassifier(SVC(verbose=1)), use_tfidf=True)\n",
    "svm_tfidf.fit(X_train, y_train.ravel())\n",
    "\n",
    "pickle.dump(svm_vec.steps[-1][-1], open('SVC_vec.sav', 'wb'))\n",
    "pickle.dump(svm_tfidf.steps[-1][-1], open('SVC_tfidf.sav' , 'wb'))"
   ]
  },
  {
   "cell_type": "code",
   "execution_count": null,
   "metadata": {
    "colab": {},
    "colab_type": "code",
    "id": "0RaGh6T-Yz2M"
   },
   "outputs": [],
   "source": [
    "svm_vec_stem = build_model(OneVsRestClassifier(SVC(verbose=1)), use_tfidf=False)\n",
    "svm_vec_stem.fit(X_train_stem, y_train.ravel())\n",
    "svm_tfidf_stem =  build_model(OneVsRestClassifier(SVC(verbose=1)), use_tfidf=True)\n",
    "svm_tfidf_stem.fit(X_train_stem, y_train.ravel())\n",
    "\n",
    "pickle.dump(svm_vec_stem.steps[-1][-1], open('SVC_vec_stem.sav', 'wb'))\n",
    "pickle.dump(svm_tfidf_stem.steps[-1][-1], open('SVC_tfidf_stem.sav', 'wb'))"
   ]
  },
  {
   "cell_type": "code",
   "execution_count": null,
   "metadata": {
    "colab": {},
    "colab_type": "code",
    "id": "IP-O_eQxwiE0"
   },
   "outputs": [],
   "source": [
    "with open('/content/SVC_vec.sav', 'rb') as pickle_file:\n",
    "    content = pickle.load(pickle_file)\n"
   ]
  },
  {
   "cell_type": "code",
   "execution_count": null,
   "metadata": {
    "colab": {
     "base_uri": "https://localhost:8080/",
     "height": 136
    },
    "colab_type": "code",
    "id": "myvBCPtZwylC",
    "outputId": "9f9356aa-f3e0-47d1-ddb0-83b4e2eb76b0"
   },
   "outputs": [
    {
     "data": {
      "text/plain": [
       "OneVsRestClassifier(estimator=SVC(C=1.0, break_ties=False, cache_size=200,\n",
       "                                  class_weight=None, coef0=0.0,\n",
       "                                  decision_function_shape='ovr', degree=3,\n",
       "                                  gamma='scale', kernel='rbf', max_iter=-1,\n",
       "                                  probability=False, random_state=None,\n",
       "                                  shrinking=True, tol=0.001, verbose=1),\n",
       "                    n_jobs=None)"
      ]
     },
     "execution_count": 87,
     "metadata": {
      "tags": []
     },
     "output_type": "execute_result"
    }
   ],
   "source": [
    "content[-1]"
   ]
  },
  {
   "cell_type": "code",
   "execution_count": null,
   "metadata": {
    "colab": {
     "base_uri": "https://localhost:8080/",
     "height": 462
    },
    "colab_type": "code",
    "id": "-M1v93iuXN3D",
    "outputId": "23205d53-6c99-4761-d010-897a6d3f2fb3"
   },
   "outputs": [
    {
     "name": "stdout",
     "output_type": "stream",
     "text": [
      "Labels: {'Negative': 0, 'Neutral': 1, 'Positive': 2}\n",
      "Confusion Matrix:\n",
      " [[ 94  46  89]\n",
      " [ 28  51 114]\n",
      " [ 28  40 767]]\n",
      "Accuracy: 0.7255369928400954\n",
      "              precision    recall  f1-score   support\n",
      "\n",
      "           0       0.63      0.41      0.50       229\n",
      "           1       0.37      0.26      0.31       193\n",
      "           2       0.79      0.92      0.85       835\n",
      "\n",
      "    accuracy                           0.73      1257\n",
      "   macro avg       0.60      0.53      0.55      1257\n",
      "weighted avg       0.70      0.73      0.70      1257\n",
      "\n",
      "[[0.         0.         1.        ]\n",
      " [0.5        0.5        0.        ]\n",
      " [1.         0.         0.        ]\n",
      " ...\n",
      " [0.33333333 0.33333333 0.33333333]\n",
      " [0.         0.         1.        ]\n",
      " [0.33333333 0.33333333 0.33333333]]\n"
     ]
    },
    {
     "name": "stderr",
     "output_type": "stream",
     "text": [
      "/usr/local/lib/python3.6/dist-packages/sklearn/multiclass.py:376: RuntimeWarning: invalid value encountered in true_divide\n",
      "  Y /= np.sum(Y, axis=1)[:, np.newaxis]\n"
     ]
    }
   ],
   "source": [
    "# # modeling for each model.\n",
    "# # benchamrk model\n",
    "\n",
    "# bench_clf =  build_model(OneVsRestClassifier(GaussianNB()), use_tfidf=False)\n",
    "# bench_clf.fit(X_train, y_train)\n",
    "# bench_predictions = bench_clf.predict(X_test)\n",
    "# display_results(y_test, bench_predictions)\n",
    "# bench_predictions_proba = bench_clf.predict_proba(X_test)\n",
    "# print(bench_predictions_proba)"
   ]
  },
  {
   "cell_type": "code",
   "execution_count": null,
   "metadata": {
    "colab": {
     "base_uri": "https://localhost:8080/",
     "height": 510
    },
    "colab_type": "code",
    "id": "d6tgb1AsSKeX",
    "outputId": "0496ead4-af7a-44bd-a87b-815153153bec"
   },
   "outputs": [
    {
     "name": "stderr",
     "output_type": "stream",
     "text": [
      "[Parallel(n_jobs=1)]: Using backend SequentialBackend with 1 concurrent workers.\n",
      "[Parallel(n_jobs=1)]: Done   1 out of   1 | elapsed:    3.9s finished\n",
      "[Parallel(n_jobs=1)]: Using backend SequentialBackend with 1 concurrent workers.\n",
      "[Parallel(n_jobs=1)]: Done   1 out of   1 | elapsed:    3.6s finished\n",
      "[Parallel(n_jobs=1)]: Using backend SequentialBackend with 1 concurrent workers.\n",
      "[Parallel(n_jobs=1)]: Done   1 out of   1 | elapsed:    4.6s finished\n"
     ]
    },
    {
     "name": "stdout",
     "output_type": "stream",
     "text": [
      "Labels: {'Negative': 0, 'Neutral': 1, 'Positive': 2}\n",
      "Confusion Matrix:\n",
      " [[104  16 109]\n",
      " [ 41  55  97]\n",
      " [ 15  29 791]]\n",
      "Accuracy: 0.7557677008750995\n",
      "              precision    recall  f1-score   support\n",
      "\n",
      "           0       0.65      0.45      0.53       229\n",
      "           1       0.55      0.28      0.38       193\n",
      "           2       0.79      0.95      0.86       835\n",
      "\n",
      "    accuracy                           0.76      1257\n",
      "   macro avg       0.66      0.56      0.59      1257\n",
      "weighted avg       0.73      0.76      0.73      1257\n",
      "\n",
      "[[0.84470303 0.05139726 0.10389971]\n",
      " [0.20706067 0.02848593 0.7644534 ]\n",
      " [0.27166305 0.03341808 0.69491887]\n",
      " ...\n",
      " [0.3032464  0.46856319 0.22819041]\n",
      " [0.17203031 0.04500256 0.78296713]\n",
      " [0.0138154  0.0214952  0.9646894 ]]\n"
     ]
    }
   ],
   "source": [
    "# log_clf = build_model(OneVsRestClassifier(LogisticRegression(verbose=1)), use_tfidf=False)\n",
    "# log_clf.fit(X_train, y_train.ravel())\n",
    "# log_predictions = log_clf.predict(X_test)\n",
    "# display_results(y_test, log_predictions)\n",
    "# log_predictions_proba = log_clf.predict_proba(X_test)\n",
    "# print(log_predictions_proba)"
   ]
  },
  {
   "cell_type": "code",
   "execution_count": null,
   "metadata": {
    "colab": {
     "base_uri": "https://localhost:8080/",
     "height": 630
    },
    "colab_type": "code",
    "id": "UkSvhpnlhAkq",
    "outputId": "48ea0913-0a95-4103-f32b-e089fb2b2f90"
   },
   "outputs": [
    {
     "name": "stdout",
     "output_type": "stream",
     "text": [
      "Labels: {'Negative': 0, 'Neutral': 1, 'Positive': 2}\n",
      "Confusion Matrix:\n",
      " [[ 70  14 145]\n",
      " [ 25  34 134]\n",
      " [  7  13 815]]\n",
      "Accuracy: 0.7311058074781225\n",
      "              precision    recall  f1-score   support\n",
      "\n",
      "           0       0.69      0.31      0.42       229\n",
      "           1       0.56      0.18      0.27       193\n",
      "           2       0.74      0.98      0.84       835\n",
      "\n",
      "    accuracy                           0.73      1257\n",
      "   macro avg       0.66      0.49      0.51      1257\n",
      "weighted avg       0.71      0.73      0.68      1257\n",
      "\n"
     ]
    },
    {
     "ename": "AttributeError",
     "evalue": "ignored",
     "output_type": "error",
     "traceback": [
      "\u001b[0;31m---------------------------------------------------------------------------\u001b[0m",
      "\u001b[0;31mAttributeError\u001b[0m                            Traceback (most recent call last)",
      "\u001b[0;32m<ipython-input-75-bb84040713ec>\u001b[0m in \u001b[0;36m<module>\u001b[0;34m()\u001b[0m\n\u001b[1;32m      3\u001b[0m \u001b[0mSVC_predictions\u001b[0m \u001b[0;34m=\u001b[0m \u001b[0mSVC_clf\u001b[0m\u001b[0;34m.\u001b[0m\u001b[0mpredict\u001b[0m\u001b[0;34m(\u001b[0m\u001b[0mX_test\u001b[0m\u001b[0;34m)\u001b[0m\u001b[0;34m\u001b[0m\u001b[0;34m\u001b[0m\u001b[0m\n\u001b[1;32m      4\u001b[0m \u001b[0mdisplay_results\u001b[0m\u001b[0;34m(\u001b[0m\u001b[0my_test\u001b[0m\u001b[0;34m,\u001b[0m \u001b[0mSVC_predictions\u001b[0m\u001b[0;34m)\u001b[0m\u001b[0;34m\u001b[0m\u001b[0;34m\u001b[0m\u001b[0m\n\u001b[0;32m----> 5\u001b[0;31m \u001b[0mSVC_predictions_proba\u001b[0m \u001b[0;34m=\u001b[0m \u001b[0mSVC_clf\u001b[0m\u001b[0;34m.\u001b[0m\u001b[0mpredict_proba\u001b[0m\u001b[0;34m(\u001b[0m\u001b[0mX_test\u001b[0m\u001b[0;34m)\u001b[0m\u001b[0;34m\u001b[0m\u001b[0;34m\u001b[0m\u001b[0m\n\u001b[0m\u001b[1;32m      6\u001b[0m \u001b[0mprint\u001b[0m\u001b[0;34m(\u001b[0m\u001b[0mSVC_predictions_proba\u001b[0m\u001b[0;34m)\u001b[0m\u001b[0;34m\u001b[0m\u001b[0;34m\u001b[0m\u001b[0m\n",
      "\u001b[0;32m/usr/local/lib/python3.6/dist-packages/sklearn/utils/metaestimators.py\u001b[0m in \u001b[0;36m__get__\u001b[0;34m(self, obj, type)\u001b[0m\n\u001b[1;32m    108\u001b[0m                     \u001b[0;32mcontinue\u001b[0m\u001b[0;34m\u001b[0m\u001b[0;34m\u001b[0m\u001b[0m\n\u001b[1;32m    109\u001b[0m                 \u001b[0;32melse\u001b[0m\u001b[0;34m:\u001b[0m\u001b[0;34m\u001b[0m\u001b[0;34m\u001b[0m\u001b[0m\n\u001b[0;32m--> 110\u001b[0;31m                     \u001b[0mgetattr\u001b[0m\u001b[0;34m(\u001b[0m\u001b[0mdelegate\u001b[0m\u001b[0;34m,\u001b[0m \u001b[0mself\u001b[0m\u001b[0;34m.\u001b[0m\u001b[0mattribute_name\u001b[0m\u001b[0;34m)\u001b[0m\u001b[0;34m\u001b[0m\u001b[0;34m\u001b[0m\u001b[0m\n\u001b[0m\u001b[1;32m    111\u001b[0m                     \u001b[0;32mbreak\u001b[0m\u001b[0;34m\u001b[0m\u001b[0;34m\u001b[0m\u001b[0m\n\u001b[1;32m    112\u001b[0m             \u001b[0;32melse\u001b[0m\u001b[0;34m:\u001b[0m\u001b[0;34m\u001b[0m\u001b[0;34m\u001b[0m\u001b[0m\n",
      "\u001b[0;32m/usr/local/lib/python3.6/dist-packages/sklearn/svm/_base.py\u001b[0m in \u001b[0;36mpredict_proba\u001b[0;34m(self)\u001b[0m\n\u001b[1;32m    634\u001b[0m         \u001b[0mdatasets\u001b[0m\u001b[0;34m.\u001b[0m\u001b[0;34m\u001b[0m\u001b[0;34m\u001b[0m\u001b[0m\n\u001b[1;32m    635\u001b[0m         \"\"\"\n\u001b[0;32m--> 636\u001b[0;31m         \u001b[0mself\u001b[0m\u001b[0;34m.\u001b[0m\u001b[0m_check_proba\u001b[0m\u001b[0;34m(\u001b[0m\u001b[0;34m)\u001b[0m\u001b[0;34m\u001b[0m\u001b[0;34m\u001b[0m\u001b[0m\n\u001b[0m\u001b[1;32m    637\u001b[0m         \u001b[0;32mreturn\u001b[0m \u001b[0mself\u001b[0m\u001b[0;34m.\u001b[0m\u001b[0m_predict_proba\u001b[0m\u001b[0;34m\u001b[0m\u001b[0;34m\u001b[0m\u001b[0m\n\u001b[1;32m    638\u001b[0m \u001b[0;34m\u001b[0m\u001b[0m\n",
      "\u001b[0;32m/usr/local/lib/python3.6/dist-packages/sklearn/svm/_base.py\u001b[0m in \u001b[0;36m_check_proba\u001b[0;34m(self)\u001b[0m\n\u001b[1;32m    601\u001b[0m     \u001b[0;32mdef\u001b[0m \u001b[0m_check_proba\u001b[0m\u001b[0;34m(\u001b[0m\u001b[0mself\u001b[0m\u001b[0;34m)\u001b[0m\u001b[0;34m:\u001b[0m\u001b[0;34m\u001b[0m\u001b[0;34m\u001b[0m\u001b[0m\n\u001b[1;32m    602\u001b[0m         \u001b[0;32mif\u001b[0m \u001b[0;32mnot\u001b[0m \u001b[0mself\u001b[0m\u001b[0;34m.\u001b[0m\u001b[0mprobability\u001b[0m\u001b[0;34m:\u001b[0m\u001b[0;34m\u001b[0m\u001b[0;34m\u001b[0m\u001b[0m\n\u001b[0;32m--> 603\u001b[0;31m             raise AttributeError(\"predict_proba is not available when \"\n\u001b[0m\u001b[1;32m    604\u001b[0m                                  \" probability=False\")\n\u001b[1;32m    605\u001b[0m         \u001b[0;32mif\u001b[0m \u001b[0mself\u001b[0m\u001b[0;34m.\u001b[0m\u001b[0m_impl\u001b[0m \u001b[0;32mnot\u001b[0m \u001b[0;32min\u001b[0m \u001b[0;34m(\u001b[0m\u001b[0;34m'c_svc'\u001b[0m\u001b[0;34m,\u001b[0m \u001b[0;34m'nu_svc'\u001b[0m\u001b[0;34m)\u001b[0m\u001b[0;34m:\u001b[0m\u001b[0;34m\u001b[0m\u001b[0;34m\u001b[0m\u001b[0m\n",
      "\u001b[0;31mAttributeError\u001b[0m: predict_proba is not available when  probability=False"
     ]
    }
   ],
   "source": [
    "# SVC_clf = build_model(OneVsRestClassifier(SVC(verbose=-1)), use_tfidf=False)\n",
    "# SVC_clf.fit(X_train, y_train.ravel())\n",
    "# SVC_predictions = SVC_clf.predict(X_test)\n",
    "# display_results(y_test, SVC_predictions)\n"
   ]
  },
  {
   "cell_type": "code",
   "execution_count": null,
   "metadata": {
    "colab": {
     "base_uri": "https://localhost:8080/",
     "height": 408
    },
    "colab_type": "code",
    "id": "yrHb4zTcmfRI",
    "outputId": "bd28bc86-c70c-490b-ba24-4c394a29a490"
   },
   "outputs": [
    {
     "name": "stdout",
     "output_type": "stream",
     "text": [
      "Labels: {'Negative': 0, 'Neutral': 1, 'Positive': 2}\n",
      "Confusion Matrix:\n",
      " [[ 63  31 135]\n",
      " [ 16  55 122]\n",
      " [  2  20 813]]\n",
      "Accuracy: 0.7406523468575974\n",
      "              precision    recall  f1-score   support\n",
      "\n",
      "           0       0.78      0.28      0.41       229\n",
      "           1       0.52      0.28      0.37       193\n",
      "           2       0.76      0.97      0.85       835\n",
      "\n",
      "    accuracy                           0.74      1257\n",
      "   macro avg       0.69      0.51      0.54      1257\n",
      "weighted avg       0.73      0.74      0.70      1257\n",
      "\n",
      "[[1.  0.  0. ]\n",
      " [0.2 0.2 0.6]\n",
      " [0.6 0.  0.4]\n",
      " ...\n",
      " [0.  1.  0. ]\n",
      " [0.  0.  1. ]\n",
      " [0.  0.  1. ]]\n"
     ]
    }
   ],
   "source": [
    "# KNN_clf = build_model(OneVsRestClassifier(KNeighborsClassifier(n_jobs=-1)), use_tfidf=True)\n",
    "# KNN_clf.fit(X_train, y_train.ravel())\n",
    "# KNN_predictions = KNN_clf.predict(X_test)\n",
    "# display_results(y_test, KNN_predictions)\n",
    "# KNN_predictions_proba = KNN_clf.predict_proba(X_test)\n",
    "# print(KNN_predictions_proba)"
   ]
  },
  {
   "cell_type": "code",
   "execution_count": null,
   "metadata": {
    "colab": {},
    "colab_type": "code",
    "id": "CKAeXm1PTzg7"
   },
   "outputs": [],
   "source": [
    "# lexicon dict\n",
    "def build_lex(data, n_gram=2):\n",
    "  \"\"\"\n",
    "    data: tuple(pos_data, neg_data) passed data is expected to be a list of sentences.\n",
    "  \"\"\"\n",
    "  assert n_gram >= 2, f'n_gram should be >1, passed {n_gram}'\n",
    "  if not isinstance(data, tuple):\n",
    "            raise ValueError('Inappropriate type: {} for data whereas a tuple of (pos_data, neg_data) \\\n",
    "            is expected'.format(type(data)))\n",
    "  #   assert isinstane(dat, list), f'data should be of type list, passed {type(dat)}'\n",
    "  pos_data, neg_data = data\n",
    "  pos_grams = []\n",
    "  for sentence in pos_data:\n",
    "    sentence = sentence.split()\n",
    "    pos_grams.append([sentence[i:i+n_gram] for i in range(len(sentence)-n_gram+1)])\n",
    "  neg_grams = []\n",
    "  for sentence in neg_data:\n",
    "    sentence = sentence.split()\n",
    "    neg_grams.append([sentence[i:i+n_gram] for i in range(len(sentence)-n_gram+1)])\n",
    "  # flatting list of lists\n",
    "  # reference: [https://stackoverflow.com/questions/952914/how-to-make-a-flat-list-out-of-list-of-lists]\n",
    "  from functools import reduce \n",
    "  pos_grams = reduce(lambda x,y: x+y, pos_grams)\n",
    "  neg_grams = reduce(lambda x,y: x+y, neg_grams)\n",
    "  pos_grams_ = []\n",
    "  for GRAMS in pos_grams:\n",
    "    pos_grams_.append(' '.join(gram for gram in GRAMS))\n",
    "  neg_grams_ = []\n",
    "  for GRAMS in neg_grams:\n",
    "    neg_grams_.append(' '.join(gram for gram in GRAMS))\n",
    "  # neg_lex = ngrams(neg.split(), n)\n",
    "  return pos_grams_, neg_grams_"
   ]
  },
  {
   "cell_type": "code",
   "execution_count": null,
   "metadata": {
    "colab": {},
    "colab_type": "code",
    "id": "RlyNQN6jYsii"
   },
   "outputs": [],
   "source": [
    "pos_data = utils.get_arabic_words(merged[merged.label == 'Positive'].text, handle_emojies='emoticon')\n",
    "neg_data = utils.get_arabic_words(merged[merged.label == 'Negative'].text, handle_emojies='emoticon')\n",
    "pos_gram, neg_gram = build_lex(data=(pos_data, neg_data))"
   ]
  },
  {
   "cell_type": "code",
   "execution_count": 107,
   "metadata": {
    "colab": {
     "base_uri": "https://localhost:8080/",
     "height": 68
    },
    "colab_type": "code",
    "id": "4sZKltCZgqg1",
    "outputId": "6ef90d26-1bd6-4db5-beb4-59ff72b9025e"
   },
   "outputs": [
    {
     "name": "stdout",
     "output_type": "stream",
     "text": [
      "['اجمل مكان', 'مكان رحت', 'رحت لحين']\n",
      "\n",
      "['ماطلبنا مستحيل', 'مستحيل باذخ', 'باذخ ونتر']\n"
     ]
    }
   ],
   "source": [
    "print(pos_gram[:3])\n",
    "print()\n",
    "print(neg_gram[:3])"
   ]
  },
  {
   "cell_type": "code",
   "execution_count": null,
   "metadata": {
    "colab": {},
    "colab_type": "code",
    "id": "jTisbZEwmdDN"
   },
   "outputs": [],
   "source": [
    "def lex_model(data, lexicon):\n",
    "  \"\"\"\n",
    "  returns a list of lists: each list contains two tuples,\n",
    "  the first element contains the text,postive probabilty, postive probabilty, neutral probabilty,\n",
    "  count of [grams] in text, class name.\n",
    "  the second element contains  label\n",
    "  \"\"\"\n",
    "  if not isinstance(lexicon, tuple):\n",
    "            raise ValueError('Inappropriate type: {} for lexicon whereas a tuple of (pos_gram, neg_gram) \\\n",
    "            is expected'.format(type(lexicon)))\n",
    "  pos_gram, neg_gram = lexicon\n",
    "  from functools import reduce \n",
    "  N_GRAM = len(pos_gram[0].split())\n",
    "  grams = []\n",
    "  \n",
    "  for index, sentence in enumerate(data):\n",
    "    sentence = sentence.split()\n",
    "    grams_ = [sentence[i:i+N_GRAM] for i in range(len(sentence)-N_GRAM+1)]\n",
    "    grams__ = []\n",
    "    for gram_list in grams_:\n",
    "      grams__.append(' '.join(word for word in gram_list))\n",
    "    # check for postive, negative words for each sentences.\n",
    "    pos_count, neg_count, neut_count = 0, 0, 0\n",
    "    for GRAM in grams__:\n",
    "      if GRAM in pos_gram:\n",
    "        pos_count+=1\n",
    "      if GRAM in neg_gram:\n",
    "        neg_count+=1\n",
    "      if (GRAM not in pos_gram) & (GRAM not in neg_gram):\n",
    "        neut_count+=1\n",
    "    total_grams=pos_count+neg_count+neut_count \n",
    "    pos_proba = pos_count/total_grams\n",
    "    neg_proba = neg_count/total_grams\n",
    "    neut_proba = neut_count/total_grams\n",
    "    if (pos_proba > neg_proba) & (pos_proba > neut_proba):\n",
    "      class_= 'Positive'\n",
    "      label = 2\n",
    "    elif (neg_proba > pos_proba) & (neg_proba > neut_proba):\n",
    "      class_= 'Negative'\n",
    "      label = 0\n",
    "    else:\n",
    "      class_= 'Neutral'\n",
    "      label = 1\n",
    "    grams.append([(grams__, pos_proba, neg_proba, neut_proba, total_grams, class_), (label)])\n",
    "  return grams\n",
    "  "
   ]
  },
  {
   "cell_type": "code",
   "execution_count": null,
   "metadata": {
    "colab": {},
    "colab_type": "code",
    "id": "sJ2JDeey1nXc"
   },
   "outputs": [],
   "source": [
    "texts = utils.get_arabic_words(merged.text)"
   ]
  },
  {
   "cell_type": "code",
   "execution_count": 281,
   "metadata": {
    "colab": {
     "base_uri": "https://localhost:8080/",
     "height": 68
    },
    "colab_type": "code",
    "id": "1QuBM3KqnzW2",
    "outputId": "74cc0d24-248a-417d-da5d-0a1fb80708b4"
   },
   "outputs": [
    {
     "data": {
      "text/plain": [
       "0    اجمل مكان رحت له للحين في موسم الرياض ونتر وند...\n",
       "1    متى يعقلون ذوولا ؟؟؟😂💔\\n\\n#ونتر_وندرلاند #وينت...\n",
       "Name: text, dtype: object"
      ]
     },
     "execution_count": 281,
     "metadata": {
      "tags": []
     },
     "output_type": "execute_result"
    }
   ],
   "source": [
    "merged.text[:2]"
   ]
  },
  {
   "cell_type": "code",
   "execution_count": null,
   "metadata": {
    "colab": {},
    "colab_type": "code",
    "id": "Eq01d87vnZO_"
   },
   "outputs": [],
   "source": [
    "lex = lex_model(texts, (pos_gram, neg_gram))"
   ]
  },
  {
   "cell_type": "code",
   "execution_count": 308,
   "metadata": {
    "colab": {
     "base_uri": "https://localhost:8080/",
     "height": 153
    },
    "colab_type": "code",
    "id": "R08dyHj6CUFS",
    "outputId": "0de1a14f-4d3c-41d5-8c5c-6a5006a36b63"
   },
   "outputs": [
    {
     "name": "stdout",
     "output_type": "stream",
     "text": [
      "{'Negative': 0, 'Neutral': 1, 'Positive': 2}\n"
     ]
    },
    {
     "data": {
      "text/plain": [
       "array([[2],\n",
       "       [1],\n",
       "       [1],\n",
       "       ...,\n",
       "       [2],\n",
       "       [1],\n",
       "       [1]])"
      ]
     },
     "execution_count": 308,
     "metadata": {
      "tags": []
     },
     "output_type": "execute_result"
    }
   ],
   "source": [
    "print(la_mapping)\n",
    "y"
   ]
  },
  {
   "cell_type": "code",
   "execution_count": 354,
   "metadata": {
    "colab": {
     "base_uri": "https://localhost:8080/",
     "height": 272
    },
    "colab_type": "code",
    "id": "CoFbXyr9G0ZS",
    "outputId": "51e3b39f-a1fa-4113-c566-9d6180b0a7bc"
   },
   "outputs": [
    {
     "data": {
      "text/plain": [
       "[(['اجمل مكان',\n",
       "   'مكان رحت',\n",
       "   'رحت لحين',\n",
       "   'لحين موسم',\n",
       "   'موسم الرياض',\n",
       "   'الرياض ونتر',\n",
       "   'ونتر وندرلاند',\n",
       "   'وندرلاند حلوه',\n",
       "   'حلوه بشكل'],\n",
       "  0.75,\n",
       "  0.25,\n",
       "  0.0,\n",
       "  12,\n",
       "  'Positive'),\n",
       " 2]"
      ]
     },
     "execution_count": 354,
     "metadata": {
      "tags": []
     },
     "output_type": "execute_result"
    }
   ],
   "source": [
    "lex[0]"
   ]
  },
  {
   "cell_type": "code",
   "execution_count": 353,
   "metadata": {
    "colab": {
     "base_uri": "https://localhost:8080/",
     "height": 34
    },
    "colab_type": "code",
    "id": "it0GZfV18qJ-",
    "outputId": "dcbcaaf0-389e-4bdb-960c-b4b369b8805e"
   },
   "outputs": [
    {
     "data": {
      "text/plain": [
       "(5027, (5027, 1))"
      ]
     },
     "execution_count": 353,
     "metadata": {
      "tags": []
     },
     "output_type": "execute_result"
    }
   ],
   "source": [
    "len(lex), y.shape"
   ]
  },
  {
   "cell_type": "code",
   "execution_count": null,
   "metadata": {
    "colab": {},
    "colab_type": "code",
    "id": "-jE4TE2eEQGu"
   },
   "outputs": [],
   "source": [
    "predictions = []\n",
    "for element in lex:\n",
    "    predictions.append(element[-1])\n",
    "predictions = np.array(predictions).reshape(-1, 1)"
   ]
  },
  {
   "cell_type": "code",
   "execution_count": 358,
   "metadata": {
    "colab": {
     "base_uri": "https://localhost:8080/",
     "height": 102
    },
    "colab_type": "code",
    "id": "a27aQ_cjF84a",
    "outputId": "dadb6e62-a549-47fa-ecaa-6e8b0cdd0424"
   },
   "outputs": [
    {
     "data": {
      "text/plain": [
       "array([[2],\n",
       "       [1],\n",
       "       [1],\n",
       "       [1],\n",
       "       [2]])"
      ]
     },
     "execution_count": 358,
     "metadata": {
      "tags": []
     },
     "output_type": "execute_result"
    }
   ],
   "source": [
    "predictions[:5]"
   ]
  },
  {
   "cell_type": "code",
   "execution_count": 363,
   "metadata": {
    "colab": {
     "base_uri": "https://localhost:8080/",
     "height": 255
    },
    "colab_type": "code",
    "id": "jnMnb0CtGKmK",
    "outputId": "9d5b0032-fd65-4d6c-933e-fd818887705a"
   },
   "outputs": [
    {
     "name": "stdout",
     "output_type": "stream",
     "text": [
      "0.9669783170877263\n",
      "              precision    recall  f1-score   support\n",
      "\n",
      "           0       0.97      0.98      0.97       946\n",
      "           1       0.92      0.85      0.88       751\n",
      "           2       0.98      0.99      0.98      3330\n",
      "\n",
      "    accuracy                           0.97      5027\n",
      "   macro avg       0.96      0.94      0.95      5027\n",
      "weighted avg       0.97      0.97      0.97      5027\n",
      "\n",
      "[[ 928   18    0]\n",
      " [  31  637   83]\n",
      " [   0   34 3296]]\n"
     ]
    }
   ],
   "source": [
    "print(accuracy_score(y, predictions))\n",
    "print(classification_report(y, predictions))\n",
    "print(confusion_matrix(y, predictions))"
   ]
  },
  {
   "cell_type": "code",
   "execution_count": 1,
   "metadata": {
    "colab": {
     "base_uri": "https://localhost:8080/",
     "height": 130
    },
    "colab_type": "code",
    "id": "g0QmxLb8j-tV",
    "outputId": "9f3458ec-7924-4129-a682-fe0189275c63"
   },
   "outputs": [],
   "source": [
    "# from nltk import ngrams\n",
    "# merged_grams = ngrams(utils.get_arabic_words(merged.text)[0].split(), 2)\n",
    "# merged_grams"
   ]
  },
  {
   "cell_type": "code",
   "execution_count": null,
   "metadata": {
    "colab": {},
    "colab_type": "code",
    "id": "UUlo1W8HmZyI"
   },
   "outputs": [],
   "source": []
  },
  {
   "cell_type": "code",
   "execution_count": null,
   "metadata": {
    "colab": {},
    "colab_type": "code",
    "id": "979ISlT58hkC"
   },
   "outputs": [],
   "source": [
    "# Word2Vec\n",
    "# model = gensim.models.Word2Vec (X, size=150, window=10, min_count=2, workers=10)\n",
    "# model.ww.similarity()"
   ]
  },
  {
   "cell_type": "code",
   "execution_count": null,
   "metadata": {
    "colab": {},
    "colab_type": "code",
    "id": "xVNJ87mKOyeb"
   },
   "outputs": [],
   "source": []
  },
  {
   "cell_type": "markdown",
   "metadata": {
    "colab_type": "text",
    "id": "QNfXkyVNvklL"
   },
   "source": [
    "## Getting Experiemnatal Data"
   ]
  },
  {
   "cell_type": "code",
   "execution_count": null,
   "metadata": {
    "ExecuteTime": {
     "end_time": "2020-03-05T13:31:51.343038Z",
     "start_time": "2020-03-05T13:17:10.104828Z"
    },
    "colab": {},
    "colab_type": "code",
    "id": "L_Z70CATvklL",
    "outputId": "a5e97984-975b-49bc-e27b-dbd4878d9839"
   },
   "outputs": [
    {
     "name": "stdout",
     "output_type": "stream",
     "text": [
      "Downloading tweets...\n",
      "Saved 5500^C\n",
      "\n",
      "Interrupted.\n",
      "\n",
      "\n",
      "Done. Output file generated \"output_got.csv\".\n"
     ]
    }
   ],
   "source": [
    "# !GetOldTweets3 --querysearch \"موسم الرياض\" "
   ]
  }
 ],
 "metadata": {
  "colab": {
   "collapsed_sections": [
    "8NjExAAjvkiZ",
    "QNfXkyVNvklL"
   ],
   "name": "chapter3.ipynb",
   "provenance": [],
   "toc_visible": true
  },
  "file_extension": ".py",
  "hide_input": false,
  "kernelspec": {
   "display_name": "Python 3",
   "language": "python",
   "name": "python3"
  },
  "language_info": {
   "codemirror_mode": {
    "name": "ipython",
    "version": 3
   },
   "file_extension": ".py",
   "mimetype": "text/x-python",
   "name": "python",
   "nbconvert_exporter": "python",
   "pygments_lexer": "ipython3",
   "version": "3.8.3"
  },
  "mimetype": "text/x-python",
  "name": "python",
  "npconvert_exporter": "python",
  "pygments_lexer": "ipython3",
  "toc": {
   "base_numbering": 1,
   "nav_menu": {},
   "number_sections": true,
   "sideBar": true,
   "skip_h1_title": false,
   "title_cell": "Table of Contents",
   "title_sidebar": "Contents",
   "toc_cell": false,
   "toc_position": {},
   "toc_section_display": true,
   "toc_window_display": false
  },
  "varInspector": {
   "cols": {
    "lenName": 16,
    "lenType": 16,
    "lenVar": 40
   },
   "kernels_config": {
    "python": {
     "delete_cmd_postfix": "",
     "delete_cmd_prefix": "del ",
     "library": "var_list.py",
     "varRefreshCmd": "print(var_dic_list())"
    },
    "r": {
     "delete_cmd_postfix": ") ",
     "delete_cmd_prefix": "rm(",
     "library": "var_list.r",
     "varRefreshCmd": "cat(var_dic_list()) "
    }
   },
   "types_to_exclude": [
    "module",
    "function",
    "builtin_function_or_method",
    "instance",
    "_Feature"
   ],
   "window_display": false
  },
  "version": 3
 },
 "nbformat": 4,
 "nbformat_minor": 4
}
